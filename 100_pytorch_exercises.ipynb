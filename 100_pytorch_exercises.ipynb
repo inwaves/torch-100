{
 "cells": [
  {
   "cell_type": "markdown",
   "id": "f44a2f2b",
   "metadata": {},
   "source": [
    "# 100 pytorch exercises\n",
    "\n",
    "This is a port of 100 numpy exercises to the pytorch library.\n",
    "\n",
    "The original is a collection of exercises that have been collected in the numpy mailing list, on stack overflow\n",
    "and in the numpy documentation. The goal of this collection is to offer a quick reference for both old\n",
    "and new users but also to provide a set of exercises for those who teach.\n",
    "\n",
    "If you find an error or think you've a better way to solve some of them, feel\n",
    "free to open an issue at <https://github.com/rougier/numpy-100>."
   ]
  },
  {
   "cell_type": "markdown",
   "id": "0fe3d529",
   "metadata": {},
   "source": [
    "File automatically generated. See the documentation to update questions/answers/hints programmatically."
   ]
  },
  {
   "cell_type": "markdown",
   "id": "23296a93",
   "metadata": {},
   "source": [
    "Run the `initialize.py` module, then for each question you can query the\n",
    "answer or an hint with `hint(n)` or `answer(n)` for `n` question number."
   ]
  },
  {
   "cell_type": "code",
   "execution_count": 1,
   "id": "530390cf",
   "metadata": {},
   "outputs": [],
   "source": [
    "%run initialise.py"
   ]
  },
  {
   "cell_type": "markdown",
   "id": "96443564",
   "metadata": {},
   "source": [
    "#### 1. Import the numpy package under the name `np` (★☆☆)"
   ]
  },
  {
   "cell_type": "markdown",
   "id": "1cff05e5",
   "metadata": {},
   "source": [
    "trA = \\sum_{i=1}^n \\lambda_\n",
    "\n",
    "|A| = \\prod_{i=1}^n \\lambda_i\n",
    "\n",
    "rank(A) = |\\{\\lambda_i :  \\lambda_i \\neq 0\\}|\n",
    "\n",
    "Ax = \\lambda x \\Rightarrow A^{-1}x = \\frac{1}{\\lambda}x\n",
    "\n",
    "Let A = diag(d_1, d_2, ..., d_n). A's eigenvalues are its diagonal values."
   ]
  },
  {
   "cell_type": "code",
   "execution_count": 2,
   "id": "ffe1047e",
   "metadata": {},
   "outputs": [],
   "source": [
    "import numpy as np\n",
    "import torch as t"
   ]
  },
  {
   "cell_type": "markdown",
   "id": "c807bf1d",
   "metadata": {},
   "source": [
    "#### 2. Print the numpy version and the configuration (★☆☆)"
   ]
  },
  {
   "cell_type": "code",
   "execution_count": 3,
   "id": "f396b717",
   "metadata": {},
   "outputs": [
    {
     "name": "stdout",
     "output_type": "stream",
     "text": [
      "blas_mkl_info:\n",
      "  NOT AVAILABLE\n",
      "blis_info:\n",
      "  NOT AVAILABLE\n",
      "openblas_info:\n",
      "    libraries = ['openblas', 'openblas']\n",
      "    library_dirs = ['/usr/local/lib']\n",
      "    language = c\n",
      "    define_macros = [('HAVE_CBLAS', None)]\n",
      "blas_opt_info:\n",
      "    libraries = ['openblas', 'openblas']\n",
      "    library_dirs = ['/usr/local/lib']\n",
      "    language = c\n",
      "    define_macros = [('HAVE_CBLAS', None)]\n",
      "lapack_mkl_info:\n",
      "  NOT AVAILABLE\n",
      "openblas_lapack_info:\n",
      "    libraries = ['openblas', 'openblas']\n",
      "    library_dirs = ['/usr/local/lib']\n",
      "    language = c\n",
      "    define_macros = [('HAVE_CBLAS', None)]\n",
      "lapack_opt_info:\n",
      "    libraries = ['openblas', 'openblas']\n",
      "    library_dirs = ['/usr/local/lib']\n",
      "    language = c\n",
      "    define_macros = [('HAVE_CBLAS', None)]\n"
     ]
    },
    {
     "data": {
      "text/plain": "'1.7.1'"
     },
     "execution_count": 3,
     "metadata": {},
     "output_type": "execute_result"
    }
   ],
   "source": [
    "np.__version__, np.show_config()\n",
    "t.__version__"
   ]
  },
  {
   "cell_type": "markdown",
   "id": "572c1bdb",
   "metadata": {},
   "source": [
    "#### 3. Create a null vector of size 10 (★☆☆)"
   ]
  },
  {
   "cell_type": "code",
   "execution_count": 4,
   "id": "31c9f6a5",
   "metadata": {},
   "outputs": [
    {
     "data": {
      "text/plain": "array([0., 0., 0., 0., 0., 0., 0., 0., 0., 0.])"
     },
     "execution_count": 4,
     "metadata": {},
     "output_type": "execute_result"
    }
   ],
   "source": [
    "np.zeros(10)"
   ]
  },
  {
   "cell_type": "markdown",
   "id": "337e6e36",
   "metadata": {},
   "source": [
    "#### 4. How to find the memory size of any array (★☆☆)"
   ]
  },
  {
   "cell_type": "code",
   "execution_count": 5,
   "id": "31e8ec2e",
   "metadata": {},
   "outputs": [
    {
     "data": {
      "text/plain": "3"
     },
     "execution_count": 5,
     "metadata": {},
     "output_type": "execute_result"
    }
   ],
   "source": [
    "a = np.array([1, 2, 3])\n",
    "a.size"
   ]
  },
  {
   "cell_type": "markdown",
   "id": "166079c8",
   "metadata": {},
   "source": [
    "#### 5. How to get the documentation of the numpy add function from the command line? (★☆☆)"
   ]
  },
  {
   "cell_type": "code",
   "execution_count": 6,
   "id": "593cd80f",
   "metadata": {},
   "outputs": [
    {
     "name": "stdout",
     "output_type": "stream",
     "text": [
      "add(x1, x2, /, out=None, *, where=True, casting='same_kind', order='K', dtype=None, subok=True[, signature, extobj])\n",
      "\n",
      "Add arguments element-wise.\n",
      "\n",
      "Parameters\n",
      "----------\n",
      "x1, x2 : array_like\n",
      "    The arrays to be added. If ``x1.shape != x2.shape``, they must be broadcastable to a common shape (which becomes the shape of the output).\n",
      "out : ndarray, None, or tuple of ndarray and None, optional\n",
      "    A location into which the result is stored. If provided, it must have\n",
      "    a shape that the inputs broadcast to. If not provided or `None`,\n",
      "    a freshly-allocated array is returned. A tuple (possible only as a\n",
      "    keyword argument) must have length equal to the number of outputs.\n",
      "where : array_like, optional\n",
      "    This condition is broadcast over the input. At locations where the\n",
      "    condition is True, the `out` array will be set to the ufunc result.\n",
      "    Elsewhere, the `out` array will retain its original value.\n",
      "    Note that if an uninitialized `out` array is created via the default\n",
      "    ``out=None``, locations within it where the condition is False will\n",
      "    remain uninitialized.\n",
      "**kwargs\n",
      "    For other keyword-only arguments, see the\n",
      "    :ref:`ufunc docs <ufuncs.kwargs>`.\n",
      "\n",
      "Returns\n",
      "-------\n",
      "add : ndarray or scalar\n",
      "    The sum of `x1` and `x2`, element-wise.\n",
      "    This is a scalar if both `x1` and `x2` are scalars.\n",
      "\n",
      "Notes\n",
      "-----\n",
      "Equivalent to `x1` + `x2` in terms of array broadcasting.\n",
      "\n",
      "Examples\n",
      "--------\n",
      ">>> np.add(1.0, 4.0)\n",
      "5.0\n",
      ">>> x1 = np.arange(9.0).reshape((3, 3))\n",
      ">>> x2 = np.arange(3.0)\n",
      ">>> np.add(x1, x2)\n",
      "array([[  0.,   2.,   4.],\n",
      "       [  3.,   5.,   7.],\n",
      "       [  6.,   8.,  10.]])\n"
     ]
    }
   ],
   "source": [
    "np.info(np.add)"
   ]
  },
  {
   "cell_type": "markdown",
   "id": "3add7101",
   "metadata": {},
   "source": [
    "#### 6. Create a null vector of size 10 but the fifth value which is 1 (★☆☆)"
   ]
  },
  {
   "cell_type": "code",
   "execution_count": 7,
   "id": "2edf3c42",
   "metadata": {},
   "outputs": [],
   "source": [
    "a = np.zeros(10)\n",
    "a[4] = 1"
   ]
  },
  {
   "cell_type": "markdown",
   "id": "cfc46304",
   "metadata": {},
   "source": [
    "#### 7. Create a vector with values ranging from 10 to 49 (★☆☆)"
   ]
  },
  {
   "cell_type": "code",
   "execution_count": 8,
   "id": "d8b86640",
   "metadata": {},
   "outputs": [
    {
     "data": {
      "text/plain": "array([10, 11, 12, 13, 14, 15, 16, 17, 18, 19, 20, 21, 22, 23, 24, 25, 26,\n       27, 28, 29, 30, 31, 32, 33, 34, 35, 36, 37, 38, 39, 40, 41, 42, 43,\n       44, 45, 46, 47, 48, 49])"
     },
     "execution_count": 8,
     "metadata": {},
     "output_type": "execute_result"
    }
   ],
   "source": [
    "a = np.arange(10, 50, 1)\n",
    "\n",
    "a"
   ]
  },
  {
   "cell_type": "markdown",
   "id": "0cc200be",
   "metadata": {},
   "source": [
    "#### 8. Reverse a vector (first element becomes last) (★☆☆)"
   ]
  },
  {
   "cell_type": "code",
   "execution_count": 9,
   "id": "ec044bb5",
   "metadata": {},
   "outputs": [
    {
     "name": "stdout",
     "output_type": "stream",
     "text": [
      "hint: array[::-1]\n"
     ]
    }
   ],
   "source": [
    "a[::-1]\n",
    "hint(8)"
   ]
  },
  {
   "cell_type": "markdown",
   "id": "29d9ede4",
   "metadata": {},
   "source": [
    "#### 9. Create a 3x3 matrix with values ranging from 0 to 8 (★☆☆)"
   ]
  },
  {
   "cell_type": "code",
   "execution_count": 10,
   "id": "d9e39043",
   "metadata": {},
   "outputs": [
    {
     "data": {
      "text/plain": "array([[0, 1, 2],\n       [3, 4, 5],\n       [6, 7, 8]])"
     },
     "execution_count": 10,
     "metadata": {},
     "output_type": "execute_result"
    }
   ],
   "source": [
    "np.arange(0, 9).reshape((3, 3))"
   ]
  },
  {
   "cell_type": "markdown",
   "id": "88905ceb",
   "metadata": {},
   "source": [
    "#### 10. Find indices of non-zero elements from [1,2,0,0,4,0] (★☆☆)"
   ]
  },
  {
   "cell_type": "code",
   "execution_count": 11,
   "id": "b2f3c90a",
   "metadata": {},
   "outputs": [
    {
     "data": {
      "text/plain": "(array([0, 1, 4]),)"
     },
     "execution_count": 11,
     "metadata": {},
     "output_type": "execute_result"
    }
   ],
   "source": [
    "a = np.array([1, 2, 0, 0, 4, 0])\n",
    "\n",
    "np.where(a != 0)\n",
    "np.nonzero(a)"
   ]
  },
  {
   "cell_type": "markdown",
   "id": "49603e91",
   "metadata": {},
   "source": [
    "#### 11. Create a 3x3 identity matrix (★☆☆)"
   ]
  },
  {
   "cell_type": "code",
   "execution_count": 12,
   "id": "5b607b5c",
   "metadata": {},
   "outputs": [
    {
     "data": {
      "text/plain": "array([[1., 0., 0.],\n       [0., 1., 0.],\n       [0., 0., 1.]])"
     },
     "execution_count": 12,
     "metadata": {},
     "output_type": "execute_result"
    }
   ],
   "source": [
    "np.eye(3)"
   ]
  },
  {
   "cell_type": "markdown",
   "id": "e15c249a",
   "metadata": {},
   "source": [
    "#### 12. Create a 3x3x3 array with random values (★☆☆)"
   ]
  },
  {
   "cell_type": "code",
   "execution_count": 13,
   "id": "ab21ed50",
   "metadata": {},
   "outputs": [
    {
     "data": {
      "text/plain": "array([[[-0.95075439, -0.54519125, -1.86672734],\n        [ 0.26420305,  0.80387197, -0.66068356],\n        [ 1.16448321,  0.68760289, -0.11482188]],\n\n       [[ 0.38204462, -0.06431752, -0.23238453],\n        [ 0.30537028, -0.56481679, -0.10871618],\n        [-0.98179439,  2.38105623, -0.19351338]],\n\n       [[ 0.13930192, -1.49691737, -0.12472427],\n        [-0.33040775,  0.43930054, -1.03909162],\n        [ 1.33521849,  1.17587797, -0.34638634]]])"
     },
     "execution_count": 13,
     "metadata": {},
     "output_type": "execute_result"
    }
   ],
   "source": [
    "np.random.randn(3, 3, 3)"
   ]
  },
  {
   "cell_type": "markdown",
   "id": "157a129c",
   "metadata": {},
   "source": [
    "#### 13. Create a 10x10 array with random values and find the minimum and maximum values (★☆☆)"
   ]
  },
  {
   "cell_type": "code",
   "execution_count": 14,
   "id": "c0066de5",
   "metadata": {},
   "outputs": [
    {
     "data": {
      "text/plain": "(2.8890211689250687, 2.8890211689250687)"
     },
     "execution_count": 14,
     "metadata": {},
     "output_type": "execute_result"
    }
   ],
   "source": [
    "a = np.random.randn(10, 10)\n",
    "np.max(a), a.max()\n",
    "# np.min(a)"
   ]
  },
  {
   "cell_type": "markdown",
   "id": "d92d7b32",
   "metadata": {},
   "source": [
    "#### 14. Create a random vector of size 30 and find the mean value (★☆☆)"
   ]
  },
  {
   "cell_type": "code",
   "execution_count": 15,
   "id": "9672d023",
   "metadata": {},
   "outputs": [
    {
     "data": {
      "text/plain": "0.029737567182035737"
     },
     "execution_count": 15,
     "metadata": {},
     "output_type": "execute_result"
    }
   ],
   "source": [
    "np.mean(np.random.randn(30))"
   ]
  },
  {
   "cell_type": "markdown",
   "id": "f361efc0",
   "metadata": {},
   "source": [
    "#### 15. Create a 2d array with 1 on the border and 0 inside (★☆☆)"
   ]
  },
  {
   "cell_type": "code",
   "execution_count": 16,
   "id": "a55b6666",
   "metadata": {},
   "outputs": [
    {
     "data": {
      "text/plain": "array([[1., 1., 1., 1.],\n       [1., 0., 0., 1.],\n       [1., 0., 0., 1.],\n       [1., 1., 1., 1.]])"
     },
     "execution_count": 16,
     "metadata": {},
     "output_type": "execute_result"
    }
   ],
   "source": [
    "a = np.ones((4, 4))\n",
    "\n",
    "a[1:-1, 1:-1] = 0\n",
    "a"
   ]
  },
  {
   "cell_type": "markdown",
   "id": "475808cb",
   "metadata": {},
   "source": [
    "#### 16. How to add a border (filled with 0's) around an existing array? (★☆☆)"
   ]
  },
  {
   "cell_type": "code",
   "execution_count": 17,
   "id": "b2df3a8a",
   "metadata": {},
   "outputs": [
    {
     "data": {
      "text/plain": "array([[ 0.        ,  0.        ,  0.        ,  0.        ,  0.        ],\n       [ 0.        ,  0.77634376,  0.19212576,  0.96352302,  0.        ],\n       [ 0.        , -0.68148876,  2.17008957,  1.57586929,  0.        ],\n       [ 0.        , -2.05362657,  0.7867484 ,  1.32917883,  0.        ],\n       [ 0.        ,  0.        ,  0.        ,  0.        ,  0.        ]])"
     },
     "execution_count": 17,
     "metadata": {},
     "output_type": "execute_result"
    }
   ],
   "source": [
    "a = np.random.randn(3, 3)\n",
    "\n",
    "np.pad(a, pad_width=1)"
   ]
  },
  {
   "cell_type": "markdown",
   "id": "1af07d85",
   "metadata": {},
   "source": [
    "#### 17. What is the result of the following expression? (★☆☆)\n",
    "```python\n",
    "0 * np.nan\n",
    "np.nan == np.nan\n",
    "np.inf > np.nan\n",
    "np.nan - np.nan\n",
    "np.nan in set([np.nan])\n",
    "0.3 == 3 * 0.1\n",
    "```"
   ]
  },
  {
   "cell_type": "code",
   "execution_count": 18,
   "id": "109cf327",
   "metadata": {},
   "outputs": [
    {
     "data": {
      "text/plain": "0.30000000000000004"
     },
     "execution_count": 18,
     "metadata": {},
     "output_type": "execute_result"
    }
   ],
   "source": [
    "0.1 * 3"
   ]
  },
  {
   "cell_type": "markdown",
   "id": "6a235316",
   "metadata": {},
   "source": [
    "#### 18. Create a 5x5 matrix with values 1,2,3,4 just below the diagonal (★☆☆)"
   ]
  },
  {
   "cell_type": "code",
   "execution_count": 19,
   "id": "f2e6cfa6",
   "metadata": {},
   "outputs": [
    {
     "data": {
      "text/plain": "array([[0, 0, 0, 0, 0],\n       [1, 0, 0, 0, 0],\n       [0, 2, 0, 0, 0],\n       [0, 0, 3, 0, 0],\n       [0, 0, 0, 4, 0]])"
     },
     "execution_count": 19,
     "metadata": {},
     "output_type": "execute_result"
    }
   ],
   "source": [
    "np.tril([1, 2, 3, 4, 5], -1)\n",
    "\n",
    "np.diag(1+np.arange(4), -1)"
   ]
  },
  {
   "cell_type": "markdown",
   "id": "25362e98",
   "metadata": {},
   "source": [
    "#### 19. Create a 8x8 matrix and fill it with a checkerboard pattern (★☆☆)"
   ]
  },
  {
   "cell_type": "code",
   "execution_count": 20,
   "id": "cabdf298",
   "metadata": {},
   "outputs": [
    {
     "data": {
      "text/plain": "array([[0, 0, 0, 0, 0, 0, 0, 0],\n       [1, 0, 1, 0, 1, 0, 1, 0],\n       [0, 0, 0, 0, 0, 0, 0, 0],\n       [1, 0, 1, 0, 1, 0, 1, 0],\n       [0, 0, 0, 0, 0, 0, 0, 0],\n       [1, 0, 1, 0, 1, 0, 1, 0],\n       [0, 0, 0, 0, 0, 0, 0, 0],\n       [1, 0, 1, 0, 1, 0, 1, 0]])"
     },
     "execution_count": 20,
     "metadata": {},
     "output_type": "execute_result"
    }
   ],
   "source": [
    "a = np.full((8, 8), 0)\n",
    "\n",
    "a[1::2, ::2] = 1\n",
    "# a[::2, 1::2] = 1\n",
    "a"
   ]
  },
  {
   "cell_type": "markdown",
   "id": "6431e977",
   "metadata": {},
   "source": [
    "#### 20. Consider a (6,7,8) shape array, what is the index (x,y,z) of the 100th element? (★☆☆)"
   ]
  },
  {
   "cell_type": "code",
   "execution_count": 21,
   "id": "de8b0245",
   "metadata": {},
   "outputs": [
    {
     "data": {
      "text/plain": "(array([1]), array([5]), array([4]))"
     },
     "execution_count": 21,
     "metadata": {},
     "output_type": "execute_result"
    }
   ],
   "source": [
    "np.unravel_index([100], (6, 7, 8))"
   ]
  },
  {
   "cell_type": "markdown",
   "id": "31abe6fe",
   "metadata": {},
   "source": [
    "#### 21. Create a checkerboard 8x8 matrix using the tile function (★☆☆)"
   ]
  },
  {
   "cell_type": "code",
   "execution_count": 22,
   "id": "6da26fd3",
   "metadata": {},
   "outputs": [
    {
     "data": {
      "text/plain": "array([[0, 1, 0, 1, 0, 1, 0, 1],\n       [1, 0, 1, 0, 1, 0, 1, 0],\n       [0, 1, 0, 1, 0, 1, 0, 1],\n       [1, 0, 1, 0, 1, 0, 1, 0],\n       [0, 1, 0, 1, 0, 1, 0, 1],\n       [1, 0, 1, 0, 1, 0, 1, 0],\n       [0, 1, 0, 1, 0, 1, 0, 1],\n       [1, 0, 1, 0, 1, 0, 1, 0]])"
     },
     "execution_count": 22,
     "metadata": {},
     "output_type": "execute_result"
    }
   ],
   "source": [
    "pattern = np.array([[0, 1], [1, 0]])\n",
    "np.tile(pattern, (4, 4))"
   ]
  },
  {
   "cell_type": "markdown",
   "id": "fd88b3f4",
   "metadata": {},
   "source": [
    "#### 22. Normalize a 5x5 random matrix (★☆☆)"
   ]
  },
  {
   "cell_type": "code",
   "execution_count": 23,
   "id": "ee6ced60",
   "metadata": {},
   "outputs": [
    {
     "data": {
      "text/plain": "array([[-1.28390865,  0.84336596, -1.13492586,  0.20413943,  1.14626785],\n       [-1.32653   ,  2.09718263, -0.94584165,  0.74561257, -0.5799029 ],\n       [-0.77541972, -0.20937168,  1.89029955,  0.51147888,  0.57931225],\n       [ 0.3502228 , -1.33983124, -1.12451962,  0.05220407, -0.65501747],\n       [ 0.48842465,  0.26878677,  1.19980804, -1.32859345,  0.32675676]])"
     },
     "execution_count": 23,
     "metadata": {},
     "output_type": "execute_result"
    }
   ],
   "source": [
    "t = np.random.randn(5, 5)\n",
    "(t - t.mean()) / t.std()"
   ]
  },
  {
   "cell_type": "markdown",
   "id": "464d8590",
   "metadata": {},
   "source": [
    "#### 23. Create a custom dtype that describes a color as four unsigned bytes (RGBA) (★☆☆)"
   ]
  },
  {
   "cell_type": "code",
   "execution_count": 24,
   "id": "e2f9cfc6",
   "metadata": {},
   "outputs": [
    {
     "data": {
      "text/plain": "dtype([('R', 'u1'), ('G', 'u1'), ('B', 'u1'), ('A', 'u1')])"
     },
     "execution_count": 24,
     "metadata": {},
     "output_type": "execute_result"
    }
   ],
   "source": [
    "rgba = np.dtype([(\"R\", np.ubyte), (\"G\", np.ubyte), (\"B\", np.ubyte), (\"A\", np.ubyte)])\n",
    "\n",
    "rgba"
   ]
  },
  {
   "cell_type": "markdown",
   "id": "06c63bb3",
   "metadata": {},
   "source": [
    "#### 24. Multiply a 5x3 matrix by a 3x2 matrix (real matrix product) (★☆☆)"
   ]
  },
  {
   "cell_type": "code",
   "execution_count": 25,
   "id": "9fc0d553",
   "metadata": {},
   "outputs": [
    {
     "data": {
      "text/plain": "array([[ 93, 101],\n       [ 38,  59],\n       [ 36,  52],\n       [ 45,  71],\n       [100, 113]])"
     },
     "execution_count": 25,
     "metadata": {},
     "output_type": "execute_result"
    }
   ],
   "source": [
    "a = np.random.randint(10, size=(5, 3))\n",
    "b = np.random.randint(10, size=(3, 2))\n",
    "\n",
    "np.matmul(a, b)"
   ]
  },
  {
   "cell_type": "markdown",
   "id": "76fa6285",
   "metadata": {},
   "source": [
    "#### 25. Given a 1D array, negate all elements which are between 3 and 8, in place. (★☆☆)"
   ]
  },
  {
   "cell_type": "code",
   "execution_count": 26,
   "id": "0e25eca7",
   "metadata": {},
   "outputs": [],
   "source": [
    "a = np.random.randint(10, size=(10,))"
   ]
  },
  {
   "cell_type": "code",
   "execution_count": 27,
   "id": "b64ce134",
   "metadata": {},
   "outputs": [
    {
     "data": {
      "text/plain": "array([False, False, False, False,  True, False, False, False,  True,\n        True])"
     },
     "execution_count": 27,
     "metadata": {},
     "output_type": "execute_result"
    }
   ],
   "source": [
    "(a > 3) & (a < 8)"
   ]
  },
  {
   "cell_type": "markdown",
   "id": "930ed8bb",
   "metadata": {},
   "source": [
    "#### 26. What is the output of the following script? (★☆☆)\n",
    "```python\n",
    "# Author: Jake VanderPlas\n",
    "\n",
    "print(sum(range(5),-1))\n",
    "from numpy import *\n",
    "print(sum(range(5),-1))\n",
    "```"
   ]
  },
  {
   "cell_type": "code",
   "execution_count": 28,
   "id": "f02eedba",
   "metadata": {},
   "outputs": [
    {
     "name": "stdout",
     "output_type": "stream",
     "text": [
      "# Author: Jake VanderPlas\n",
      "\n",
      "print(sum(range(5),-1))\n",
      "from numpy import *\n",
      "print(sum(range(5),-1))\n"
     ]
    }
   ],
   "source": [
    "answer(26)"
   ]
  },
  {
   "cell_type": "markdown",
   "id": "177120e7",
   "metadata": {},
   "source": [
    "#### 27. Consider an integer vector Z, which of these expressions are legal? (★☆☆)\n",
    "```python\n",
    "Z**Z\n",
    "2 << Z >> 2\n",
    "Z <- Z\n",
    "1j*Z\n",
    "Z/1/1\n",
    "Z<Z>Z\n",
    "```"
   ]
  },
  {
   "cell_type": "code",
   "execution_count": 29,
   "id": "86d6cbef",
   "metadata": {},
   "outputs": [],
   "source": [
    "z = np.array([1, 2, 3, 4])"
   ]
  },
  {
   "cell_type": "markdown",
   "id": "a6eaf0e8",
   "metadata": {},
   "source": [
    "#### 28. What are the result of the following expressions? (★☆☆)\n",
    "```python\n",
    "np.array(0) / np.array(0)\n",
    "np.array(0) // np.array(0)\n",
    "np.array([np.nan]).astype(int).astype(float)\n",
    "```"
   ]
  },
  {
   "cell_type": "code",
   "execution_count": 30,
   "id": "4f6755f4",
   "metadata": {},
   "outputs": [
    {
     "data": {
      "text/plain": "array([-9223372036854775808])"
     },
     "execution_count": 30,
     "metadata": {},
     "output_type": "execute_result"
    }
   ],
   "source": [
    "np.array([np.nan]).astype(float).astype(int)"
   ]
  },
  {
   "cell_type": "markdown",
   "id": "524b65f8",
   "metadata": {},
   "source": [
    "#### 29. How to round away from zero a float array ? (★☆☆)"
   ]
  },
  {
   "cell_type": "code",
   "execution_count": 31,
   "id": "61fbb78e",
   "metadata": {},
   "outputs": [],
   "source": [
    "z = np.random.uniform(-10, 10, 10)"
   ]
  },
  {
   "cell_type": "code",
   "execution_count": 32,
   "id": "1fae1d9e",
   "metadata": {},
   "outputs": [
    {
     "data": {
      "text/plain": "(array([ 9.72276891, -8.10037458,  4.00443688, -4.94829774,  2.61690481,\n        -9.39789327, -8.61374043, -4.79711615,  6.35354049,  6.314369  ]),\n array([ 10.,  -9.,   5.,  -5.,   3., -10.,  -9.,  -5.,   7.,   7.]))"
     },
     "execution_count": 32,
     "metadata": {},
     "output_type": "execute_result"
    }
   ],
   "source": [
    "z, np.copysign(np.ceil(np.abs(z)), z)"
   ]
  },
  {
   "cell_type": "markdown",
   "id": "8dc40752",
   "metadata": {},
   "source": [
    "#### 30. How to find common values between two arrays? (★☆☆)"
   ]
  },
  {
   "cell_type": "code",
   "execution_count": 33,
   "id": "54399cbe",
   "metadata": {},
   "outputs": [],
   "source": [
    "a = np.random.randint(10, size=(5, 2))\n",
    "b = np.random.randint(10, size=(5, 2))"
   ]
  },
  {
   "cell_type": "code",
   "execution_count": 34,
   "id": "c4f091ae",
   "metadata": {},
   "outputs": [
    {
     "data": {
      "text/plain": "array([1, 2, 4, 7, 8, 9])"
     },
     "execution_count": 34,
     "metadata": {},
     "output_type": "execute_result"
    }
   ],
   "source": [
    "# Do it in pure Python.\n",
    "set(a.flatten().tolist()).intersection(set(b.flatten().tolist()))\n",
    "\n",
    "# Do it in numpy.\n",
    "np.intersect1d(a, b)"
   ]
  },
  {
   "cell_type": "markdown",
   "id": "b7f38e21",
   "metadata": {},
   "source": [
    "#### 31. How to ignore all numpy warnings (not recommended)? (★☆☆)"
   ]
  },
  {
   "cell_type": "code",
   "execution_count": 35,
   "id": "2ca3289c",
   "metadata": {},
   "outputs": [
    {
     "name": "stdout",
     "output_type": "stream",
     "text": [
      "# Suicide mode on\n",
      "defaults = np.seterr(all=\"ignore\")\n",
      "Z = np.ones(1) / 0\n",
      "\n",
      "# Back to sanity\n",
      "_ = np.seterr(**defaults)\n",
      "\n",
      "# Equivalently with a context manager\n",
      "with np.errstate(all=\"ignore\"):\n",
      "    np.arange(3) / 0\n"
     ]
    },
    {
     "name": "stderr",
     "output_type": "stream",
     "text": [
      "<ipython-input-35-6feda5c102fa>:3: RuntimeWarning: divide by zero encountered in true_divide\n",
      "  np.ones(9) / 0\n"
     ]
    }
   ],
   "source": [
    "# np.seterr(**default)\n",
    "\n",
    "np.ones(9) / 0\n",
    "\n",
    "answer(31)"
   ]
  },
  {
   "cell_type": "markdown",
   "id": "2d850aab",
   "metadata": {},
   "source": [
    "#### 32. Is the following expressions true? (★☆☆)\n",
    "```python\n",
    "np.sqrt(-1) == np.emath.sqrt(-1)\n",
    "```"
   ]
  },
  {
   "cell_type": "code",
   "execution_count": 36,
   "id": "5c83ffce",
   "metadata": {},
   "outputs": [
    {
     "data": {
      "text/plain": "1j"
     },
     "execution_count": 36,
     "metadata": {},
     "output_type": "execute_result"
    }
   ],
   "source": [
    "np.emath.sqrt(-1)"
   ]
  },
  {
   "cell_type": "markdown",
   "id": "5c4a556f",
   "metadata": {},
   "source": [
    "#### 33. How to get the dates of yesterday, today and tomorrow? (★☆☆)"
   ]
  },
  {
   "cell_type": "code",
   "execution_count": 37,
   "id": "c3b683a0",
   "metadata": {},
   "outputs": [
    {
     "data": {
      "text/plain": "numpy.datetime64('2022-10-04')"
     },
     "execution_count": 37,
     "metadata": {},
     "output_type": "execute_result"
    }
   ],
   "source": [
    "np.datetime64(\"today\") + np.timedelta64(1)"
   ]
  },
  {
   "cell_type": "markdown",
   "id": "453cdd64",
   "metadata": {},
   "source": [
    "#### 34. How to get all the dates corresponding to the month of July 2016? (★★☆)"
   ]
  },
  {
   "cell_type": "code",
   "execution_count": 38,
   "id": "4ba4d37c",
   "metadata": {},
   "outputs": [
    {
     "name": "stdout",
     "output_type": "stream",
     "text": [
      "hint: np.arange(dtype=datetime64['D'])\n"
     ]
    }
   ],
   "source": [
    "st = np.datetime64(\"2016-07\")\n",
    "en = np.datetime64(\"2016-07\") + np.timedelta64(1)\n",
    "np.arange(st, en, dtype='datetime64[D]')\n",
    "\n",
    "hint(34)"
   ]
  },
  {
   "cell_type": "markdown",
   "id": "52667b6e",
   "metadata": {},
   "source": [
    "#### 35. How to compute ((A+B)*(-A/2)) in place (without copy)? (★★☆)"
   ]
  },
  {
   "cell_type": "code",
   "execution_count": 39,
   "id": "e6e7c030",
   "metadata": {},
   "outputs": [
    {
     "data": {
      "text/plain": "array([-1., -2., -3., -4.], dtype=float32)"
     },
     "execution_count": 39,
     "metadata": {},
     "output_type": "execute_result"
    }
   ],
   "source": [
    "a = np.array([1, 2, 3, 4], dtype=np.float32)\n",
    "b = np.array([1, 2, 3, 4], dtype=np.float32)\n",
    "np.add(a, b, out=a)\n",
    "np.multiply(a, -1/2, out=a)\n",
    "\n",
    "a"
   ]
  },
  {
   "cell_type": "markdown",
   "id": "9a8f3738",
   "metadata": {},
   "source": [
    "#### 36. Extract the integer part of a random array of positive numbers using 4 different methods (★★☆)"
   ]
  },
  {
   "cell_type": "code",
   "execution_count": 40,
   "id": "368a801a",
   "metadata": {},
   "outputs": [
    {
     "data": {
      "text/plain": "array([[4.3127916 , 3.90501471, 2.83796576],\n       [5.99603777, 6.42367795, 7.94077497],\n       [6.14891135, 7.67761172, 4.56205236]])"
     },
     "execution_count": 40,
     "metadata": {},
     "output_type": "execute_result"
    }
   ],
   "source": [
    "arr = np.random.uniform(2, 9, size=(3, 3))\n",
    "\n",
    "arr"
   ]
  },
  {
   "cell_type": "code",
   "execution_count": 41,
   "id": "312fe393",
   "metadata": {},
   "outputs": [
    {
     "data": {
      "text/plain": "array([[0.3127916 , 0.90501471, 0.83796576],\n       [0.99603777, 0.42367795, 0.94077497],\n       [0.14891135, 0.67761172, 0.56205236]])"
     },
     "execution_count": 41,
     "metadata": {},
     "output_type": "execute_result"
    }
   ],
   "source": [
    "# arr.astype(np.int32)\n",
    "# np.floor(arr)\n",
    "# np.trunc(arr)\n",
    "arr % 1"
   ]
  },
  {
   "cell_type": "markdown",
   "id": "cab1eed1",
   "metadata": {},
   "source": [
    "#### 37. Create a 5x5 matrix with row values ranging from 0 to 4 (★★☆)"
   ]
  },
  {
   "cell_type": "code",
   "execution_count": 42,
   "id": "f1b579ba",
   "metadata": {},
   "outputs": [
    {
     "data": {
      "text/plain": "(array([[0., 1., 2., 3., 4.],\n        [0., 1., 2., 3., 4.],\n        [0., 1., 2., 3., 4.],\n        [0., 1., 2., 3., 4.],\n        [0., 1., 2., 3., 4.]]),\n array([[0, 1, 2, 3, 4],\n        [0, 1, 2, 3, 4],\n        [0, 1, 2, 3, 4],\n        [0, 1, 2, 3, 4],\n        [0, 1, 2, 3, 4]]))"
     },
     "execution_count": 42,
     "metadata": {},
     "output_type": "execute_result"
    }
   ],
   "source": [
    "a = np.zeros((5,5))\n",
    "a += np.arange(0, 5)\n",
    "    \n",
    "a, np.tile(np.arange(0, 5), (5, 1))"
   ]
  },
  {
   "cell_type": "markdown",
   "id": "cd0ce6b1",
   "metadata": {},
   "source": [
    "#### 38. Consider a generator function that generates 10 integers and use it to build an array (★☆☆)"
   ]
  },
  {
   "cell_type": "code",
   "execution_count": 43,
   "metadata": {
    "collapsed": false,
    "pycharm": {
     "name": "#%%\n"
    }
   },
   "outputs": [],
   "source": [
    "def gen_integer():\n",
    "    for _ in range(10):\n",
    "        yield np.random.randint(10)"
   ]
  },
  {
   "cell_type": "code",
   "execution_count": 44,
   "id": "ade9fb15",
   "metadata": {},
   "outputs": [
    {
     "data": {
      "text/plain": "array([8, 2, 9, 6, 8, 0, 0, 0, 3, 2], dtype=int32)"
     },
     "execution_count": 44,
     "metadata": {},
     "output_type": "execute_result"
    }
   ],
   "source": [
    "np.fromiter(gen_integer(), dtype=np.int32, count=-1)"
   ]
  },
  {
   "cell_type": "markdown",
   "id": "c4c942d1",
   "metadata": {},
   "source": [
    "#### 39. Create a vector of size 10 with values ranging from 0 to 1, both excluded (★★☆)"
   ]
  },
  {
   "cell_type": "code",
   "execution_count": 45,
   "id": "e42eaa4b",
   "metadata": {},
   "outputs": [
    {
     "data": {
      "text/plain": "array([0.09090909, 0.18181818, 0.27272727, 0.36363636, 0.45454545,\n       0.54545455, 0.63636364, 0.72727273, 0.81818182, 0.90909091])"
     },
     "execution_count": 45,
     "metadata": {},
     "output_type": "execute_result"
    }
   ],
   "source": [
    "np.linspace(0, 1, 11, endpoint=False)[1:]"
   ]
  },
  {
   "cell_type": "markdown",
   "id": "9b3cb8d2",
   "metadata": {},
   "source": [
    "#### 40. Create a random vector of size 10 and sort it (★★☆)"
   ]
  },
  {
   "cell_type": "code",
   "execution_count": 46,
   "id": "37d2b341",
   "metadata": {},
   "outputs": [
    {
     "data": {
      "text/plain": "([0, 1, 3, 6, 10, 12, 15, 18, 25, 26],\n array([ 3, 12,  1, 26, 10, 18, 15,  6,  0, 25]))"
     },
     "execution_count": 46,
     "metadata": {},
     "output_type": "execute_result"
    }
   ],
   "source": [
    "a = np.random.randint(30, size=(10,))\n",
    "\n",
    "sorted(a), a"
   ]
  },
  {
   "cell_type": "markdown",
   "id": "2facfddc",
   "metadata": {},
   "source": [
    "#### 41. How to sum a small array faster than np.sum? (★★☆)"
   ]
  },
  {
   "cell_type": "code",
   "execution_count": 47,
   "id": "4bb8864f",
   "metadata": {},
   "outputs": [
    {
     "name": "stdout",
     "output_type": "stream",
     "text": [
      "9.703636169433594e-05s elapsed for a.sum, res=32\n",
      "0.00011277198791503906s elapsed for second method, res=32\n"
     ]
    }
   ],
   "source": [
    "import time\n",
    "a = np.array([3, 3, 5, 1, 2, 3, 5, 9, 1])\n",
    "st = time.time()\n",
    "res = a.sum()\n",
    "print(f\"{time.time() - st}s elapsed for a.sum, {res=}\")\n",
    "\n",
    "a = np.array([3, 3, 5, 1, 2, 3, 5, 9, 1])\n",
    "st = time.time()\n",
    "res = np.add.reduce(a)\n",
    "print(f\"{time.time() - st}s elapsed for second method, {res=}\")"
   ]
  },
  {
   "cell_type": "markdown",
   "id": "539cd2a5",
   "metadata": {},
   "source": [
    "#### 42. Consider two random array A and B, check if they are equal (★★☆)"
   ]
  },
  {
   "cell_type": "code",
   "execution_count": 48,
   "id": "5246d7bf",
   "metadata": {},
   "outputs": [
    {
     "data": {
      "text/plain": "True"
     },
     "execution_count": 48,
     "metadata": {},
     "output_type": "execute_result"
    }
   ],
   "source": [
    "a = np.random.randn(10, 10)\n",
    "b = np.random.randn(10, 10)\n",
    "np.allclose(a, b, atol=1e-5)\n",
    "np.allclose(a, a, atol=1e-5)"
   ]
  },
  {
   "cell_type": "markdown",
   "id": "448f8274",
   "metadata": {},
   "source": [
    "#### 43. Make an array immutable (read-only) (★★☆)"
   ]
  },
  {
   "cell_type": "code",
   "execution_count": 49,
   "id": "7cf2b3dd",
   "metadata": {},
   "outputs": [],
   "source": [
    "Z = np.zeros(10)\n",
    "Z.flags.writeable = False"
   ]
  },
  {
   "cell_type": "markdown",
   "id": "d7b7aaf3",
   "metadata": {},
   "source": [
    "#### 44. Consider a random 10x2 matrix representing cartesian coordinates, convert them to polar coordinates (★★☆)"
   ]
  },
  {
   "cell_type": "code",
   "execution_count": 50,
   "id": "e2337585",
   "metadata": {},
   "outputs": [
    {
     "name": "stdout",
     "output_type": "stream",
     "text": [
      "[[3 7]\n",
      " [9 1]\n",
      " [0 1]\n",
      " [3 3]\n",
      " [2 1]\n",
      " [4 3]\n",
      " [1 0]\n",
      " [9 5]\n",
      " [9 4]\n",
      " [7 5]]\n"
     ]
    },
    {
     "name": "stderr",
     "output_type": "stream",
     "text": [
      "<ipython-input-50-45f76850296d>:4: RuntimeWarning: divide by zero encountered in true_divide\n",
      "  b[:, 0] = np.tan(a[:, 1]/a[:, 0]) # Angle.\n",
      "<ipython-input-50-45f76850296d>:4: RuntimeWarning: invalid value encountered in tan\n",
      "  b[:, 0] = np.tan(a[:, 1]/a[:, 0]) # Angle.\n"
     ]
    },
    {
     "data": {
      "text/plain": "array([[                  -1,                    0],\n       [                   0,                    0],\n       [-9223372036854775808,                    0],\n       [                   1,                    0],\n       [                   0,                    0],\n       [                   0,                    0],\n       [                   0,                    0],\n       [                   0,                    0],\n       [                   0,                    0],\n       [                   0,                    0]])"
     },
     "execution_count": 50,
     "metadata": {},
     "output_type": "execute_result"
    }
   ],
   "source": [
    "a = np.random.randint(10, size=(10, 2))\n",
    "b = np.zeros_like(a)\n",
    "print(a)\n",
    "b[:, 0] = np.tan(a[:, 1]/a[:, 0]) # Angle.\n",
    "# b[:, 1] = np.sqrt(np.sum(a**2, axis=1)) # Distance.\n",
    "\n",
    "b"
   ]
  },
  {
   "cell_type": "code",
   "execution_count": 51,
   "id": "ca9df28b",
   "metadata": {},
   "outputs": [
    {
     "data": {
      "text/plain": "array([ 58,  82,   1,  18,   5,  25,   1, 106,  97,  74])"
     },
     "execution_count": 51,
     "metadata": {},
     "output_type": "execute_result"
    }
   ],
   "source": [
    "np.sum(a**2, axis=1)"
   ]
  },
  {
   "cell_type": "markdown",
   "id": "a556027a",
   "metadata": {},
   "source": [
    "#### 45. Create random vector of size 10 and replace the maximum value by 0 (★★☆)"
   ]
  },
  {
   "cell_type": "code",
   "execution_count": 52,
   "id": "9e07cb87",
   "metadata": {},
   "outputs": [
    {
     "data": {
      "text/plain": "array([ 0,  5, 65, 61, 37, 63, 44, 80, 57, 93])"
     },
     "execution_count": 52,
     "metadata": {},
     "output_type": "execute_result"
    }
   ],
   "source": [
    "a = np.random.randint(100, size=(10,))\n",
    "a[np.argmax(a)] = 0\n",
    "a"
   ]
  },
  {
   "cell_type": "markdown",
   "id": "004f3da1",
   "metadata": {},
   "source": [
    "#### 46. Create a structured array with `x` and `y` coordinates covering the [0,1]x[0,1] area (★★☆)"
   ]
  },
  {
   "cell_type": "code",
   "execution_count": 53,
   "id": "b3824741",
   "metadata": {},
   "outputs": [
    {
     "data": {
      "text/plain": "array([[(0. , 0. ), (0. , 0.1), (0. , 0.2), (0. , 0.3), (0. , 0.4),\n        (0. , 0.5), (0. , 0.6), (0. , 0.7), (0. , 0.8), (0. , 0.9)],\n       [(0.1, 0. ), (0.1, 0.1), (0.1, 0.2), (0.1, 0.3), (0.1, 0.4),\n        (0.1, 0.5), (0.1, 0.6), (0.1, 0.7), (0.1, 0.8), (0.1, 0.9)],\n       [(0.2, 0. ), (0.2, 0.1), (0.2, 0.2), (0.2, 0.3), (0.2, 0.4),\n        (0.2, 0.5), (0.2, 0.6), (0.2, 0.7), (0.2, 0.8), (0.2, 0.9)],\n       [(0.3, 0. ), (0.3, 0.1), (0.3, 0.2), (0.3, 0.3), (0.3, 0.4),\n        (0.3, 0.5), (0.3, 0.6), (0.3, 0.7), (0.3, 0.8), (0.3, 0.9)],\n       [(0.4, 0. ), (0.4, 0.1), (0.4, 0.2), (0.4, 0.3), (0.4, 0.4),\n        (0.4, 0.5), (0.4, 0.6), (0.4, 0.7), (0.4, 0.8), (0.4, 0.9)],\n       [(0.5, 0. ), (0.5, 0.1), (0.5, 0.2), (0.5, 0.3), (0.5, 0.4),\n        (0.5, 0.5), (0.5, 0.6), (0.5, 0.7), (0.5, 0.8), (0.5, 0.9)],\n       [(0.6, 0. ), (0.6, 0.1), (0.6, 0.2), (0.6, 0.3), (0.6, 0.4),\n        (0.6, 0.5), (0.6, 0.6), (0.6, 0.7), (0.6, 0.8), (0.6, 0.9)],\n       [(0.7, 0. ), (0.7, 0.1), (0.7, 0.2), (0.7, 0.3), (0.7, 0.4),\n        (0.7, 0.5), (0.7, 0.6), (0.7, 0.7), (0.7, 0.8), (0.7, 0.9)],\n       [(0.8, 0. ), (0.8, 0.1), (0.8, 0.2), (0.8, 0.3), (0.8, 0.4),\n        (0.8, 0.5), (0.8, 0.6), (0.8, 0.7), (0.8, 0.8), (0.8, 0.9)],\n       [(0.9, 0. ), (0.9, 0.1), (0.9, 0.2), (0.9, 0.3), (0.9, 0.4),\n        (0.9, 0.5), (0.9, 0.6), (0.9, 0.7), (0.9, 0.8), (0.9, 0.9)]],\n      dtype=[('x', '<f8'), ('y', '<f8')])"
     },
     "execution_count": 53,
     "metadata": {},
     "output_type": "execute_result"
    }
   ],
   "source": [
    "x = np.linspace(0, 1, 10, endpoint=False)\n",
    "z = np.zeros((10, 10), [(\"x\", float), (\"y\", float)])\n",
    "z[\"y\"], z[\"x\"] = np.meshgrid(x, x)\n",
    "\n",
    "z"
   ]
  },
  {
   "cell_type": "markdown",
   "id": "1c0adc0d",
   "metadata": {},
   "source": [
    "#### 47. Given two arrays, X and Y, construct the Cauchy matrix C (Cij =1/(xi - yj)) (★★☆)"
   ]
  },
  {
   "cell_type": "code",
   "execution_count": 54,
   "id": "01b3bbb7",
   "metadata": {},
   "outputs": [
    {
     "name": "stderr",
     "output_type": "stream",
     "text": [
      "<ipython-input-54-624a3ca32333>:8: RuntimeWarning: divide by zero encountered in long_scalars\n",
      "  cauchy[i, j] = 1/(x[i] - y[j])\n",
      "<ipython-input-54-624a3ca32333>:10: RuntimeWarning: divide by zero encountered in true_divide\n",
      "  cauchy, 1/np.subtract.outer(x, y)\n"
     ]
    },
    {
     "data": {
      "text/plain": "(array([[ 0.25      , -1.        , -0.25      , -0.25      ,         inf,\n         -0.5       , -1.        ,  0.5       , -0.5       ,  0.33333333],\n        [ 0.25      , -1.        , -0.25      , -0.25      ,         inf,\n         -0.5       , -1.        ,  0.5       , -0.5       ,  0.33333333],\n        [ 0.14285714,  0.5       , -1.        , -1.        ,  0.33333333,\n          1.        ,  0.5       ,  0.2       ,  1.        ,  0.16666667],\n        [-1.        , -0.16666667, -0.11111111, -0.11111111, -0.2       ,\n         -0.14285714, -0.16666667, -0.33333333, -0.14285714, -0.5       ],\n        [ 0.2       ,         inf, -0.33333333, -0.33333333,  1.        ,\n         -1.        ,         inf,  0.33333333, -1.        ,  0.25      ],\n        [ 1.        , -0.25      , -0.14285714, -0.14285714, -0.33333333,\n         -0.2       , -0.25      , -1.        , -0.2       ,         inf],\n        [-1.        , -0.16666667, -0.11111111, -0.11111111, -0.2       ,\n         -0.14285714, -0.16666667, -0.33333333, -0.14285714, -0.5       ],\n        [ 0.16666667,  1.        , -0.5       , -0.5       ,  0.5       ,\n                 inf,  1.        ,  0.25      ,         inf,  0.2       ],\n        [ 0.16666667,  1.        , -0.5       , -0.5       ,  0.5       ,\n                 inf,  1.        ,  0.25      ,         inf,  0.2       ],\n        [ 0.25      , -1.        , -0.25      , -0.25      ,         inf,\n         -0.5       , -1.        ,  0.5       , -0.5       ,  0.33333333]]),\n array([[ 0.25      , -1.        , -0.25      , -0.25      ,         inf,\n         -0.5       , -1.        ,  0.5       , -0.5       ,  0.33333333],\n        [ 0.25      , -1.        , -0.25      , -0.25      ,         inf,\n         -0.5       , -1.        ,  0.5       , -0.5       ,  0.33333333],\n        [ 0.14285714,  0.5       , -1.        , -1.        ,  0.33333333,\n          1.        ,  0.5       ,  0.2       ,  1.        ,  0.16666667],\n        [-1.        , -0.16666667, -0.11111111, -0.11111111, -0.2       ,\n         -0.14285714, -0.16666667, -0.33333333, -0.14285714, -0.5       ],\n        [ 0.2       ,         inf, -0.33333333, -0.33333333,  1.        ,\n         -1.        ,         inf,  0.33333333, -1.        ,  0.25      ],\n        [ 1.        , -0.25      , -0.14285714, -0.14285714, -0.33333333,\n         -0.2       , -0.25      , -1.        , -0.2       ,         inf],\n        [-1.        , -0.16666667, -0.11111111, -0.11111111, -0.2       ,\n         -0.14285714, -0.16666667, -0.33333333, -0.14285714, -0.5       ],\n        [ 0.16666667,  1.        , -0.5       , -0.5       ,  0.5       ,\n                 inf,  1.        ,  0.25      ,         inf,  0.2       ],\n        [ 0.16666667,  1.        , -0.5       , -0.5       ,  0.5       ,\n                 inf,  1.        ,  0.25      ,         inf,  0.2       ],\n        [ 0.25      , -1.        , -0.25      , -0.25      ,         inf,\n         -0.5       , -1.        ,  0.5       , -0.5       ,  0.33333333]]))"
     },
     "execution_count": 54,
     "metadata": {},
     "output_type": "execute_result"
    }
   ],
   "source": [
    "x = np.random.randint(10, size=(10))\n",
    "y = np.random.randint(10, size=(10))\n",
    "\n",
    "cauchy = np.zeros(shape=(10, 10))\n",
    "\n",
    "for i in range(x.shape[0]):\n",
    "    for j in range(y.shape[0]):\n",
    "        cauchy[i, j] = 1/(x[i] - y[j])\n",
    "        \n",
    "cauchy, 1/np.subtract.outer(x, y)"
   ]
  },
  {
   "cell_type": "markdown",
   "id": "c8a2f65a",
   "metadata": {},
   "source": [
    "#### 48. Print the minimum and maximum representable value for each numpy scalar type (★★☆)"
   ]
  },
  {
   "cell_type": "code",
   "execution_count": 55,
   "id": "35d844d6",
   "metadata": {},
   "outputs": [
    {
     "data": {
      "text/plain": "(32, -3.4028235e+38, 3.4028235e+38)"
     },
     "execution_count": 55,
     "metadata": {},
     "output_type": "execute_result"
    }
   ],
   "source": [
    "ii32 = np.finfo(np.float32)\n",
    "\n",
    "ii32.bits, ii32.min, ii32.max"
   ]
  },
  {
   "cell_type": "markdown",
   "id": "11727a69",
   "metadata": {},
   "source": [
    "#### 49. How to print all the values of an array? (★★☆)"
   ]
  },
  {
   "cell_type": "code",
   "execution_count": 56,
   "id": "47e98473",
   "metadata": {},
   "outputs": [],
   "source": [
    "a = np.random.randint(10, size=(100, 100))\n",
    "np.set_printoptions(threshold=5)"
   ]
  },
  {
   "cell_type": "code",
   "execution_count": 57,
   "id": "c9856a7c",
   "metadata": {},
   "outputs": [
    {
     "data": {
      "text/plain": "array([[5, 7, 9, ..., 2, 5, 9],\n       [3, 6, 9, ..., 7, 8, 5],\n       [4, 3, 3, ..., 7, 6, 1],\n       ...,\n       [9, 9, 7, ..., 0, 4, 8],\n       [5, 5, 8, ..., 6, 3, 6],\n       [6, 9, 5, ..., 7, 3, 8]])"
     },
     "execution_count": 57,
     "metadata": {},
     "output_type": "execute_result"
    }
   ],
   "source": [
    "a"
   ]
  },
  {
   "cell_type": "markdown",
   "id": "e0e7d741",
   "metadata": {},
   "source": [
    "#### 50. How to find the closest value (to a given scalar) in a vector? (★★☆)"
   ]
  },
  {
   "cell_type": "code",
   "execution_count": 58,
   "id": "62cabf6f",
   "metadata": {},
   "outputs": [
    {
     "data": {
      "text/plain": "7"
     },
     "execution_count": 58,
     "metadata": {},
     "output_type": "execute_result"
    }
   ],
   "source": [
    "x = np.random.randint(10, size=(5,))\n",
    "scalar = 5\n",
    "ind = (np.abs(x - scalar)).argmin()\n",
    "\n",
    "x[ind]"
   ]
  },
  {
   "cell_type": "markdown",
   "id": "c5611b9e",
   "metadata": {},
   "source": [
    "#### 51. Create a structured array representing a position (x,y) and a color (r,g,b) (★★☆)"
   ]
  },
  {
   "cell_type": "code",
   "execution_count": 59,
   "id": "f622939d",
   "metadata": {},
   "outputs": [
    {
     "ename": "TypeError",
     "evalue": "data type not understood",
     "output_type": "error",
     "traceback": [
      "\u001B[0;31m---------------------------------------------------------------------------\u001B[0m",
      "\u001B[0;31mTypeError\u001B[0m                                 Traceback (most recent call last)",
      "\u001B[0;32m<ipython-input-59-e59330400f75>\u001B[0m in \u001B[0;36m<module>\u001B[0;34m\u001B[0m\n\u001B[0;32m----> 1\u001B[0;31m \u001B[0mcolours\u001B[0m \u001B[0;34m=\u001B[0m \u001B[0mnp\u001B[0m\u001B[0;34m.\u001B[0m\u001B[0mzeros\u001B[0m\u001B[0;34m(\u001B[0m\u001B[0;34m(\u001B[0m\u001B[0;36m2\u001B[0m\u001B[0;34m,\u001B[0m \u001B[0;36m2\u001B[0m\u001B[0;34m)\u001B[0m\u001B[0;34m,\u001B[0m \u001B[0mdtype\u001B[0m\u001B[0;34m=\u001B[0m\u001B[0;34m[\u001B[0m\u001B[0;34m(\u001B[0m\u001B[0;34m\"pos\"\u001B[0m\u001B[0;34m,\u001B[0m \u001B[0;34m(\u001B[0m\u001B[0mfloat\u001B[0m\u001B[0;34m,\u001B[0m \u001B[0mfloat\u001B[0m\u001B[0;34m)\u001B[0m\u001B[0;34m)\u001B[0m\u001B[0;34m,\u001B[0m \u001B[0;34m(\u001B[0m\u001B[0;34m\"colour\"\u001B[0m\u001B[0;34m,\u001B[0m \u001B[0;34m(\u001B[0m\u001B[0mfloat\u001B[0m\u001B[0;34m,\u001B[0m \u001B[0mfloat\u001B[0m\u001B[0;34m,\u001B[0m \u001B[0mfloat\u001B[0m\u001B[0;34m)\u001B[0m\u001B[0;34m)\u001B[0m\u001B[0;34m]\u001B[0m\u001B[0;34m)\u001B[0m\u001B[0;34m\u001B[0m\u001B[0;34m\u001B[0m\u001B[0m\n\u001B[0m\u001B[1;32m      2\u001B[0m \u001B[0;34m\u001B[0m\u001B[0m\n\u001B[1;32m      3\u001B[0m \u001B[0manswer\u001B[0m\u001B[0;34m(\u001B[0m\u001B[0;36m51\u001B[0m\u001B[0;34m)\u001B[0m\u001B[0;34m\u001B[0m\u001B[0;34m\u001B[0m\u001B[0m\n",
      "\u001B[0;31mTypeError\u001B[0m: data type not understood"
     ]
    }
   ],
   "source": [
    "colours = np.zeros((2, 2), dtype=[(\"pos\", (float, float)), (\"colour\", (float, float, float))])\n",
    "\n",
    "answer(51)"
   ]
  },
  {
   "cell_type": "markdown",
   "id": "f5c164f2",
   "metadata": {},
   "source": [
    "#### 53. How to convert a float (32 bits) array into an integer (32 bits) in place?"
   ]
  },
  {
   "cell_type": "code",
   "execution_count": 60,
   "id": "ea262de8",
   "metadata": {},
   "outputs": [
    {
     "data": {
      "text/plain": "array([[ 0,  0, -1],\n       [ 0,  0,  0],\n       [ 0,  0, -1]], dtype=int32)"
     },
     "execution_count": 60,
     "metadata": {},
     "output_type": "execute_result"
    }
   ],
   "source": [
    "a = np.random.randn(3, 3).astype(np.float32)\n",
    "j = a.astype(np.int32)\n",
    "\n",
    "y = a.view(np.int32)\n",
    "y[:] = a\n",
    "y\n",
    "\n",
    "# Why is this true?? "
   ]
  },
  {
   "cell_type": "markdown",
   "id": "a8b7e6f5",
   "metadata": {},
   "source": [
    "#### 54. How to read the following file? (★★☆)\n",
    "```\n",
    "1, 2, 3, 4, 5\n",
    "6,  ,  , 7, 8\n",
    " ,  , 9,10,11\n",
    "```"
   ]
  },
  {
   "cell_type": "markdown",
   "id": "c6b32834",
   "metadata": {},
   "source": [
    "#### 55. What is the equivalent of enumerate for numpy arrays? (★★☆)"
   ]
  },
  {
   "cell_type": "code",
   "execution_count": 61,
   "id": "ab02472a",
   "metadata": {},
   "outputs": [
    {
     "name": "stdout",
     "output_type": "stream",
     "text": [
      "Item at idx (0,) is 1\n",
      "Item at idx (1,) is 2\n",
      "Item at idx (2,) is 3\n",
      "Item at idx (3,) is 4\n"
     ]
    }
   ],
   "source": [
    "a = np.array([1, 2, 3, 4], dtype=np.int64)\n",
    "\n",
    "for idx, item in np.ndenumerate(a):\n",
    "    print(f\"Item at idx {idx} is {item}\")"
   ]
  },
  {
   "cell_type": "markdown",
   "id": "a2121a05",
   "metadata": {},
   "source": [
    "#### 56. Generate a generic 2D Gaussian-like array (★★☆)"
   ]
  },
  {
   "cell_type": "code",
   "execution_count": 62,
   "outputs": [
    {
     "name": "stdout",
     "output_type": "stream",
     "text": [
      "X, Y = np.meshgrid(np.linspace(-1,1,10), np.linspace(-1,1,10))\n",
      "D = np.sqrt(X*X+Y*Y)\n",
      "sigma, mu = 1.0, 0.0\n",
      "G = np.exp(-( (D-mu)**2 / ( 2.0 * sigma**2 ) ) )\n",
      "print(G)\n"
     ]
    }
   ],
   "source": [
    "# I don't understand what's required here.\n",
    "answer(56)"
   ],
   "metadata": {
    "collapsed": false,
    "pycharm": {
     "name": "#%%\n"
    }
   }
  },
  {
   "cell_type": "markdown",
   "id": "97055efa",
   "metadata": {},
   "source": [
    "#### 57. How to randomly put some value k at p random indices in a 2D array of size n? (★★☆)\n",
    "### Assume p, k <= n."
   ]
  },
  {
   "cell_type": "code",
   "execution_count": 63,
   "id": "292e842f",
   "metadata": {},
   "outputs": [],
   "source": [
    "k = 5\n",
    "n = 10\n",
    "p = 5\n",
    "Z = np.zeros((n, n))\n",
    "np.put(Z, np.random.choice(range(n*n), p, replace=False), k)"
   ]
  },
  {
   "cell_type": "markdown",
   "id": "bfd2513c",
   "metadata": {},
   "source": [
    "#### 58. Subtract the mean of each row of a matrix (★★☆)"
   ]
  },
  {
   "cell_type": "code",
   "execution_count": 65,
   "id": "f306ab72",
   "metadata": {},
   "outputs": [
    {
     "data": {
      "text/plain": "array([[-0.61094882, -1.1222937 ,  0.97321502, ..., -0.4147422 ,\n         0.27339451,  0.41684388],\n       [-0.97864815,  0.18261517, -0.51099306, ..., -0.70624166,\n        -1.13116193, -1.14680126],\n       [ 0.7235443 ,  0.19045837, -1.08179339, ..., -0.49668685,\n         0.97646704, -0.92696648],\n       ...,\n       [ 1.83859218,  1.20609206,  0.58724332, ..., -2.27746731,\n        -0.49196681,  1.36037282],\n       [ 0.64504528, -0.08659216, -1.3230566 , ..., -0.52159749,\n         0.29710097, -0.15756046],\n       [ 0.37300666, -0.17338961,  0.55787373, ...,  0.42826351,\n         1.69602508, -0.25558617]])"
     },
     "execution_count": 65,
     "metadata": {},
     "output_type": "execute_result"
    }
   ],
   "source": [
    "a = np.random.randn(10, 10)\n",
    "a - a.mean(axis=1, keepdims=True)"
   ]
  },
  {
   "cell_type": "markdown",
   "id": "da9f2f9b",
   "metadata": {},
   "source": [
    "#### 59. How to sort an array by the nth column? (★★☆)"
   ]
  },
  {
   "cell_type": "code",
   "execution_count": 66,
   "id": "68cde57f",
   "metadata": {},
   "outputs": [
    {
     "data": {
      "text/plain": "array([[2, 9, 1],\n       [1, 6, 9],\n       [7, 3, 2]])"
     },
     "execution_count": 66,
     "metadata": {},
     "output_type": "execute_result"
    }
   ],
   "source": [
    "a = np.array([[1, 9, 2], [9, 6, 1], [2, 3, 7]])\n",
    "a[:, np.argsort(a)[1]]"
   ]
  },
  {
   "cell_type": "markdown",
   "id": "5b7be45c",
   "metadata": {},
   "source": [
    "#### 60. How to tell if a given 2D array has null columns? (★★☆)"
   ]
  },
  {
   "cell_type": "code",
   "execution_count": 67,
   "id": "7dbe2c27",
   "metadata": {},
   "outputs": [
    {
     "data": {
      "text/plain": "array([ True,  True, False])"
     },
     "execution_count": 67,
     "metadata": {},
     "output_type": "execute_result"
    }
   ],
   "source": [
    "a = np.array([[1, 2, 0], [7, 3, 0], [9, 1, 0]])\n",
    "a.any(axis=0)"
   ]
  },
  {
   "cell_type": "code",
   "execution_count": 68,
   "metadata": {
    "collapsed": false,
    "pycharm": {
     "name": "#%%\n"
    }
   },
   "outputs": [
    {
     "data": {
      "text/plain": "True"
     },
     "execution_count": 68,
     "metadata": {},
     "output_type": "execute_result"
    }
   ],
   "source": [
    "((a.T == 0).sum(axis=1) == a.shape[0]).any()"
   ]
  },
  {
   "cell_type": "code",
   "execution_count": 69,
   "metadata": {
    "collapsed": false,
    "pycharm": {
     "name": "#%%\n"
    }
   },
   "outputs": [
    {
     "data": {
      "text/plain": "True"
     },
     "execution_count": 69,
     "metadata": {},
     "output_type": "execute_result"
    }
   ],
   "source": [
    "a = np.array([0, 0, 0])\n",
    "\n",
    "(~a.any(axis=0)).any()"
   ]
  },
  {
   "cell_type": "markdown",
   "id": "7c18c02e",
   "metadata": {},
   "source": [
    "#### 61. Find the nearest value from a given value in an array (★★☆)"
   ]
  },
  {
   "cell_type": "code",
   "execution_count": 70,
   "id": "b78ae9c4",
   "metadata": {},
   "outputs": [
    {
     "data": {
      "text/plain": "13"
     },
     "execution_count": 70,
     "metadata": {},
     "output_type": "execute_result"
    }
   ],
   "source": [
    "val = 20\n",
    "arr = np.array([1, 9, 6, 8, 13, 2])\n",
    "\n",
    "# Do something that returns the closest item in arr to val.\n",
    "arr[np.argmin(np.abs(arr-val))]"
   ]
  },
  {
   "cell_type": "markdown",
   "id": "8174ba2c",
   "metadata": {},
   "source": [
    "### 62. Considering two arrays with shape (1,3) and (3,1), how to compute their sum using an iterator? (★★☆)\n",
    "\n",
    "Confusing phrasing: do we mean the sum of each element in the first array with its equivalent element in the second array? Or an outer sum, where we add all the elements to all the other elements, and get out a (3, 3) array?"
   ]
  },
  {
   "cell_type": "code",
   "execution_count": 71,
   "id": "8a18fe57",
   "metadata": {},
   "outputs": [
    {
     "data": {
      "text/plain": "array([2, 4, 6])"
     },
     "execution_count": 71,
     "metadata": {},
     "output_type": "execute_result"
    }
   ],
   "source": [
    "a = np.array([[1, 2, 3]])\n",
    "b = np.copy(a).T\n",
    "it = np.nditer([b, a, None])\n",
    "\n",
    "for x, y, z in it:\n",
    "    z[...] = x + y\n",
    "\n",
    "np.diag(it.operands[2])"
   ]
  },
  {
   "cell_type": "markdown",
   "id": "9189bd7c",
   "metadata": {},
   "source": [
    "#### 63. Create an array class that has a name attribute (★★☆)"
   ]
  },
  {
   "cell_type": "code",
   "execution_count": null,
   "id": "1c01ed42",
   "metadata": {},
   "outputs": [],
   "source": [
    "class NamedArray(np.ndarray):\n",
    "    def __new__(cls, name: str, array: np.ndarray) -> None:\n",
    "        obj = np.asarray(array).view(cls)\n",
    "        obj.name = name\n",
    "        return obj\n",
    "\n",
    "    def __array_finalize__(self, obj):\n",
    "        if obj is None:\n",
    "            return\n",
    "        self.name = getattr(obj, \"name\", \"no name\")"
   ]
  },
  {
   "cell_type": "code",
   "execution_count": null,
   "outputs": [],
   "source": [
    "A = NamedArray(\"bingus\", np.array([1, 2, 3]))\n",
    "A.name, A[0]"
   ],
   "metadata": {
    "collapsed": false,
    "pycharm": {
     "name": "#%%\n"
    }
   }
  },
  {
   "cell_type": "markdown",
   "id": "f30162d2",
   "metadata": {},
   "source": [
    "#### 64. Consider a given vector, how to add 1 to each element indexed by a second vector (be careful with repeated indices)? (★★★)"
   ]
  },
  {
   "cell_type": "code",
   "execution_count": null,
   "id": "093ba36f",
   "metadata": {},
   "outputs": [],
   "source": [
    "idx = np.array([2, 3, 0, 0])\n",
    "my_vector = np.array([3, 9, 1, 4, 5])\n",
    "\n",
    "# np.put_along_axis(my_vector, idx, np.take_along_axis(my_vector, idx, axis=0), axis=0)\n",
    "\n",
    "my_vector"
   ]
  },
  {
   "cell_type": "code",
   "execution_count": null,
   "outputs": [],
   "source": [
    "vals = np.bincount(idx)"
   ],
   "metadata": {
    "collapsed": false,
    "pycharm": {
     "name": "#%%\n"
    }
   }
  },
  {
   "cell_type": "code",
   "execution_count": null,
   "outputs": [],
   "source": [
    "np.add.at(my_vector, idx, vals)"
   ],
   "metadata": {
    "collapsed": false,
    "pycharm": {
     "name": "#%%\n"
    }
   }
  },
  {
   "cell_type": "code",
   "source": [
    "my_vector += np.bincount(idx, minlength=len(my_vector))"
   ],
   "metadata": {
    "collapsed": false,
    "pycharm": {
     "name": "#%%\n"
    }
   },
   "execution_count": null,
   "outputs": []
  },
  {
   "cell_type": "markdown",
   "id": "f5b1c584",
   "metadata": {},
   "source": [
    "### 65. How to accumulate elements of a vector (X) to an array (F) based on an index list (I)? (★★★)"
   ]
  },
  {
   "cell_type": "code",
   "execution_count": null,
   "id": "c9d92a75",
   "metadata": {},
   "outputs": [],
   "source": [
    "# Again, ambiguous question.\n",
    "idx = np.array([3, 0, 1, 4, 1])\n",
    "v = np.array([7, 8, 0, 1, 3])\n",
    "\n",
    "np.bincount(idx), np.bincount(idx, v)"
   ]
  },
  {
   "cell_type": "markdown",
   "id": "994c452d",
   "metadata": {},
   "source": [
    "#### 66. Considering a (w,h,3) image of (dtype=ubyte), compute the number of unique colors in the array. (★★☆)"
   ]
  },
  {
   "cell_type": "code",
   "execution_count": 104,
   "id": "269cdaea",
   "metadata": {},
   "outputs": [
    {
     "data": {
      "text/plain": "7"
     },
     "execution_count": 104,
     "metadata": {},
     "output_type": "execute_result"
    }
   ],
   "source": [
    "# Ambiguous question again; here is how to compute how many\n",
    "# colours *could* be represented with RGB channels and ubytes.\n",
    "ubyte = np.iinfo(np.ubyte)\n",
    "(ubyte.max-ubyte.min)**3\n",
    "\n",
    "# Given an array that's w x h x 3, how many distinct colours does it have?\n",
    "x = np.array([\n",
    "        [[0, 3, 31], [12, 99, 21], [17, 3, 31]],\n",
    "        [[43, 3, 31], [12, 99, 21], [17, 4, 31]],\n",
    "        [[43, 3, 31], [9, 99, 21], [255, 4, 31]],\n",
    "      ])\n",
    "\n",
    "# How to check if rows are unique?\n",
    "len(np.unique(x.reshape((-1, 3)), axis=0))"
   ]
  },
  {
   "cell_type": "markdown",
   "id": "4bddeb31",
   "metadata": {},
   "source": [
    "#### 67. Considering a four dimensions array, how to get sum over the last two axis at once? (★★★)"
   ]
  },
  {
   "cell_type": "code",
   "execution_count": 106,
   "id": "32af15f5",
   "metadata": {},
   "outputs": [],
   "source": [
    "x = np.random.randint(0, 10, (3, 3, 3, 3))"
   ]
  },
  {
   "cell_type": "code",
   "execution_count": 109,
   "outputs": [
    {
     "data": {
      "text/plain": "array([[27, 54, 44],\n       [49, 38, 38],\n       [33, 36, 20]])"
     },
     "execution_count": 109,
     "metadata": {},
     "output_type": "execute_result"
    }
   ],
   "source": [
    "# Brainstorming: ufunc.reduce/ufunc.accumulate? einsum?\n",
    "np.einsum(\"ijkl->ij\", x), np.sum(x, axis=(-2, -1))"
   ],
   "metadata": {
    "collapsed": false,
    "pycharm": {
     "name": "#%%\n"
    }
   }
  },
  {
   "cell_type": "markdown",
   "id": "c4cf083c",
   "metadata": {},
   "source": [
    "#### 68. Considering a one-dimensional vector D, how to compute means of subsets of D using a vector S of same size describing subset  indices? (★★★)"
   ]
  },
  {
   "cell_type": "code",
   "execution_count": 116,
   "id": "9600a2dd",
   "metadata": {},
   "outputs": [
    {
     "data": {
      "text/plain": "3.6666666666666665"
     },
     "execution_count": 116,
     "metadata": {},
     "output_type": "execute_result"
    }
   ],
   "source": [
    "# The description for this one is abysmal – I don't get what it means.\n",
    "D = np.array([1, 2, 3, 4, 5, 6])\n",
    "S = np.array([0, 0, 3, 4, 4, 5])\n",
    "\n",
    "np.mean(D[S])"
   ]
  },
  {
   "cell_type": "code",
   "execution_count": 122,
   "outputs": [
    {
     "name": "stderr",
     "output_type": "stream",
     "text": [
      "<ipython-input-122-a93a48f6aba3>:1: RuntimeWarning: invalid value encountered in true_divide\n",
      "  np.mean(np.bincount(S, weights=D) / np.bincount(S))\n"
     ]
    },
    {
     "data": {
      "text/plain": "nan"
     },
     "execution_count": 122,
     "metadata": {},
     "output_type": "execute_result"
    }
   ],
   "source": [
    "# This is the answer; I don't know why this is the answer.\n",
    "np.mean(np.bincount(S, weights=D) / np.bincount(S))"
   ],
   "metadata": {
    "collapsed": false,
    "pycharm": {
     "name": "#%%\n"
    }
   }
  },
  {
   "cell_type": "markdown",
   "id": "a5e316db",
   "metadata": {},
   "source": [
    "#### 69. How to get the diagonal of a dot product? (★★★)"
   ]
  },
  {
   "cell_type": "code",
   "execution_count": null,
   "id": "94735dbd",
   "metadata": {},
   "outputs": [],
   "source": [
    "a = np.random.uniform(0, 15, (3, 3))\n",
    "b = np.random.uniform(0, 15, (3, 3))\n",
    "\n",
    "np.diag(a.dot(b)), np.sum(a * b.T, axis=1), np.einsum(\"ij,ji->i\", a, b)"
   ]
  },
  {
   "cell_type": "markdown",
   "id": "de727a7b",
   "metadata": {},
   "source": [
    "#### 70. Consider the vector [1, 2, 3, 4, 5], how to build a new vector with 3 consecutive zeros interleaved between each value? (★★★)"
   ]
  },
  {
   "cell_type": "code",
   "execution_count": null,
   "id": "982be812",
   "metadata": {},
   "outputs": [],
   "source": [
    "a = np.array([1, 2, 3, 4, 5])\n",
    "b = a.reshape(-1, 1)\n",
    "print(b.shape)\n",
    "b = np.concatenate((b, np.zeros(shape=(5, 3))), axis=1)\n",
    "\n",
    "b.reshape(-1)"
   ]
  },
  {
   "cell_type": "markdown",
   "id": "a9a73d6b",
   "metadata": {},
   "source": [
    "#### 71. Consider an array of dimension (5,5,3), how to mulitply it by an array with dimensions (5,5)? (★★★)"
   ]
  },
  {
   "cell_type": "code",
   "execution_count": null,
   "id": "282a90cc",
   "metadata": {},
   "outputs": [],
   "source": [
    "a = np.random.randint(10, size=(5, 5, 3))\n",
    "b = np.random.randint(10, size=(5, 5))\n",
    "\n",
    "# How to **element-wise** multiply the two matrices.\n",
    "np.expand_dims(b, -1).shape, b[None,:,None, :,None].shape"
   ]
  },
  {
   "cell_type": "markdown",
   "id": "a951c78f",
   "metadata": {},
   "source": [
    "#### 72. How to swap two rows of an array? (★★★)"
   ]
  },
  {
   "cell_type": "code",
   "execution_count": null,
   "id": "e29b3fde",
   "metadata": {},
   "outputs": [],
   "source": [
    "a = np.random.randint(10, size=(5, 5))\n",
    "\n",
    "print(a)\n",
    "\n",
    "a[[0, 4]] = a[[4, 0]]\n",
    "\n",
    "print(a)\n",
    "\n",
    "answer(72)"
   ]
  },
  {
   "cell_type": "markdown",
   "id": "43b639e8",
   "metadata": {},
   "source": [
    "#### 73. Consider a set of 10 triplets describing 10 triangles (with shared vertices), find the set of unique line segments composing all the  triangles (★★★)"
   ]
  },
  {
   "cell_type": "code",
   "execution_count": 125,
   "id": "147e1034",
   "metadata": {},
   "outputs": [
    {
     "name": "stdout",
     "output_type": "stream",
     "text": [
      "# Author: Nicolas P. Rougier\n",
      "\n",
      "faces = np.random.randint(0,100,(10,3))\n",
      "F = np.roll(faces.repeat(2,axis=1),-1,axis=1)\n",
      "F = F.reshape(len(F)*3,2)\n",
      "F = np.sort(F,axis=1)\n",
      "G = F.view( dtype=[('p0',F.dtype),('p1',F.dtype)] )\n",
      "G = np.unique(G)\n",
      "print(G)\n"
     ]
    }
   ],
   "source": [
    "# Did not get this one."
   ]
  },
  {
   "cell_type": "markdown",
   "id": "d41de585",
   "metadata": {},
   "source": [
    "#### 74. Given a sorted array C that corresponds to a bincount, how to produce an array A such that np.bincount(A) == C? (★★★)"
   ]
  },
  {
   "cell_type": "code",
   "execution_count": 131,
   "id": "5f5d6e36",
   "metadata": {},
   "outputs": [
    {
     "data": {
      "text/plain": "array([0, 0, 0, 2, 4, 4])"
     },
     "execution_count": 131,
     "metadata": {},
     "output_type": "execute_result"
    }
   ],
   "source": [
    "C = np.array([3, 0, 1, 0, 2])\n",
    "A = []\n",
    "# Want to generate the array: [0, 0, 0, 2, 4, 4]\n",
    "# Method 1: building an array from a list.\n",
    "for ind, el in np.ndenumerate(C):\n",
    "    A.extend([ind[0] for _ in range(el)])\n",
    "\n",
    "# Method 2: entire array + put\n",
    "# A = np.array((C.sum(), 1))\n",
    "# another loop here blah blah.\n",
    "\n",
    "# Method 3: np.repeat.\n",
    "np.repeat(np.array(range(len(C))), C)"
   ]
  },
  {
   "cell_type": "markdown",
   "id": "b50adf7c",
   "metadata": {},
   "source": [
    "#### 75. How to compute averages using a sliding window over an array? (★★★)"
   ]
  },
  {
   "cell_type": "code",
   "execution_count": 163,
   "id": "e631a9d2",
   "metadata": {},
   "outputs": [
    {
     "data": {
      "text/plain": "array([[1, 2, 3],\n       [2, 3, 4],\n       [3, 4, 5],\n       [4, 5, 6],\n       [5, 6, 7],\n       [6, 7, 8]])"
     },
     "execution_count": 163,
     "metadata": {},
     "output_type": "execute_result"
    }
   ],
   "source": [
    "a = np.array([1, 2, 3, 4, 5, 6, 7, 8])\n",
    "window_size = 3\n",
    "\n",
    "# Works now: the stride arguments need to be the same as the initial array's strides.\n",
    "# It differs from Pytorch here, and I don't think learning numpy's way is that useful.\n",
    "np.lib.stride_tricks.as_strided(a, (len(a)-window_size+1, window_size), (8, 8))"
   ]
  },
  {
   "cell_type": "code",
   "execution_count": 150,
   "outputs": [
    {
     "data": {
      "text/plain": "array([2., 3., 4., 5., 6., 7.])"
     },
     "execution_count": 150,
     "metadata": {},
     "output_type": "execute_result"
    }
   ],
   "source": [
    "def moving_average(arr, window_size=3):\n",
    "    out = np.cumsum(arr, dtype=float)\n",
    "    out[window_size:] = out[window_size:] - out[:-window_size]\n",
    "    return out[window_size-1:] / window_size\n",
    "\n",
    "out = np.cumsum(a, dtype=float)\n",
    "out[3:] = out[3:] - out[:-3]\n",
    "out[2:] / 3"
   ],
   "metadata": {
    "collapsed": false,
    "pycharm": {
     "name": "#%%\n"
    }
   }
  },
  {
   "cell_type": "code",
   "execution_count": 139,
   "outputs": [
    {
     "data": {
      "text/plain": "tensor([[1, 2, 3],\n        [2, 3, 4],\n        [3, 4, 5],\n        [4, 5, 6],\n        [5, 6, 7],\n        [6, 7, 8]])"
     },
     "execution_count": 139,
     "metadata": {},
     "output_type": "execute_result"
    }
   ],
   "source": [
    "import torch as t\n",
    "b = t.arange(1, 9, 1)\n",
    "t.as_strided(b, (len(b)-window_size+1, window_size), (1, 1))"
   ],
   "metadata": {
    "collapsed": false,
    "pycharm": {
     "name": "#%%\n"
    }
   }
  },
  {
   "cell_type": "markdown",
   "id": "1ab4c50d",
   "metadata": {},
   "source": [
    "#### 76. Consider a one-dimensional array Z, build a two-dimensional array whose first row is (Z[0],Z[1],Z[2]) and each subsequent row is  shifted by 1 (last row should be (Z[-3],Z[-2],Z[-1]) (★★★)"
   ]
  },
  {
   "cell_type": "code",
   "execution_count": 161,
   "id": "3ccfe2c0",
   "metadata": {},
   "outputs": [
    {
     "name": "stdout",
     "output_type": "stream",
     "text": [
      "# Author: Joe Kington / Erik Rigtorp\n",
      "from numpy.lib import stride_tricks\n",
      "\n",
      "def rolling(a, window):\n",
      "    shape = (a.size - window + 1, window)\n",
      "    strides = (a.strides[0], a.strides[0])\n",
      "    return stride_tricks.as_strided(a, shape=shape, strides=strides)\n",
      "Z = rolling(np.arange(10), 3)\n",
      "print(Z)\n",
      "\n",
      "# Author: Jeff Luo (@Jeff1999)\n",
      "\n",
      "Z = np.arange(10)\n",
      "print(sliding_window_view(Z, window_shape=3))\n"
     ]
    }
   ],
   "source": [
    "Z = np.array([7, 3, 1, 9, 2, 6])\n",
    "\n",
    "# One pretty inelegant solution:\n",
    "# p = np.arange(0, len(Z)-2, 1)\n",
    "# Z[np.stack((p, p+1, p+2)).T]\n",
    "\n",
    "# The answer is basically the solution to 75 with as_strided."
   ]
  },
  {
   "cell_type": "markdown",
   "id": "5b4fe59d",
   "metadata": {},
   "source": [
    "#### 77. How to negate a boolean, or to change the sign of a float inplace? (★★★)"
   ]
  },
  {
   "cell_type": "code",
   "execution_count": 176,
   "id": "3c2373ff",
   "metadata": {},
   "outputs": [
    {
     "data": {
      "text/plain": "array([-3. ,  2. ,  0.1, -3.2])"
     },
     "execution_count": 176,
     "metadata": {},
     "output_type": "execute_result"
    }
   ],
   "source": [
    "bools = np.array([True, True, False, True])\n",
    "floats = np.array([3., -2., -.1, 3.2])\n",
    "\n",
    "np.logical_not(bools, out=bools)\n",
    "np.negative(floats, out=floats)"
   ]
  },
  {
   "cell_type": "markdown",
   "id": "119ab5af",
   "metadata": {},
   "source": [
    "#### 78. Consider 2 sets of points P0,P1 describing lines (2d) and a point p, how to compute distance from p to each line i (P0[i],P1[i])? (★★★)"
   ]
  },
  {
   "cell_type": "code",
   "execution_count": 186,
   "id": "1d8d06dc",
   "metadata": {},
   "outputs": [
    {
     "data": {
      "text/plain": "array([1.        , 0.89442719, 3.        ])"
     },
     "execution_count": 186,
     "metadata": {},
     "output_type": "execute_result"
    }
   ],
   "source": [
    "p = np.array([0, 1])\n",
    "p0 = np.array([[1, 2], [-1, 1], [-3, 3]])\n",
    "p1 = np.array([[1, 3], [-2, -1], [-3, 2]])\n",
    "\n",
    "diff = p1-p0\n",
    "numerator = np.abs(\n",
    "        diff[:, 0] * (p0[:, 1]-np.repeat(p, [0, p0.shape[0]])) -\n",
    "        diff[:, 1] * (p0[:, 0]-np.repeat(p, [p0.shape[0], 0]))\n",
    ")\n",
    "denominator = np.sqrt(diff[:, 0]**2 + diff[:, 1]**2)\n",
    "d = numerator / denominator\n",
    "\n",
    "d"
   ]
  },
  {
   "cell_type": "code",
   "execution_count": 185,
   "outputs": [
    {
     "data": {
      "text/plain": "array([1.        , 0.89442719, 3.        ])"
     },
     "execution_count": 185,
     "metadata": {},
     "output_type": "execute_result"
    }
   ],
   "source": [
    "def distance(P0, P1, p):\n",
    "    T = P1 - P0\n",
    "    L = (T**2).sum(axis=1)\n",
    "    U = -((P0[:,0]-p[...,0])*T[:,0] + (P0[:,1]-p[...,1])*T[:,1]) / L\n",
    "    U = U.reshape(len(U),1)\n",
    "    D = P0 + U*T - p\n",
    "    return np.sqrt((D**2).sum(axis=1))\n",
    "\n",
    "distance(p0, p1, p)"
   ],
   "metadata": {
    "collapsed": false,
    "pycharm": {
     "name": "#%%\n"
    }
   }
  },
  {
   "cell_type": "markdown",
   "id": "e5e7f323",
   "metadata": {},
   "source": [
    "#### 79. Consider 2 sets of points P0,P1 describing lines (2d) and a set of points P, how to compute distance from each point j (P[j]) to each line i (P0[i],P1[i])? (★★★)"
   ]
  },
  {
   "cell_type": "code",
   "execution_count": 195,
   "id": "d0ce77e2",
   "metadata": {},
   "outputs": [],
   "source": [
    "p = np.array([[0, 1], [2, 1], [-1, 3]])\n",
    "p0 = np.array([[1, 2], [-1, 1], [-3, 3]])\n",
    "p1 = np.array([[1, 3], [-2, -1], [-3, 2]])\n",
    "\n",
    "# Apply distance function for all points in p.\n",
    "# 1. Loop through elements and apply, store in list, list to array.\n",
    "# 2. Some way of mapping x -> f(x) for x  \\in array?\n",
    "# 3. Vectorise the distance function itself to take in multiple p at a time."
   ]
  },
  {
   "cell_type": "markdown",
   "id": "9b9d03eb",
   "metadata": {},
   "source": [
    "#### 80. Consider an arbitrary array, write a function that extract a subpart with a fixed shape and centered on a given element (pad with a `fill` value when necessary) (★★★)"
   ]
  },
  {
   "cell_type": "code",
   "execution_count": 207,
   "id": "ec2b7ae3",
   "metadata": {},
   "outputs": [
    {
     "data": {
      "text/plain": "array([], shape=(0, 0), dtype=int64)"
     },
     "execution_count": 207,
     "metadata": {},
     "output_type": "execute_result"
    }
   ],
   "source": [
    "# Brainstorming:\n",
    "# 1. Use as_strided\n",
    "# 2. Use slicing based on index of element + new shape\n",
    "# 3. Something else?\n",
    "\n",
    "from typing import Tuple, Union\n",
    "def extract_subarray(initial_array: np.ndarray, element_index: Tuple[int, int], new_shape: Tuple[int, int], pad_value: Union[int, float]) -> np.ndarray:\n",
    "    x, y = element_index\n",
    "    new_x, new_y = x + new_shape[0], y + new_shape[1]\n",
    "    assert new_x <= initial_array.shape[0] and new_y <= initial_array.shape[1]\n",
    "    return initial_array[x:x+new_x, y:y+new_y]\n",
    "\n",
    "a = np.array([[1, 2, 3, 4], [2, 3, 4, 5], [3, 4, 5, 6], [4, 5, 6, 7]])\n",
    "\n",
    "extract_subarray(a, (0, 0), (0, 0))\n",
    "\n",
    "# TODO: if shape is bigger than what you can extract from array, pad with value"
   ]
  },
  {
   "cell_type": "markdown",
   "id": "27794913",
   "metadata": {},
   "source": [
    "#### 81. Consider an array Z = [1,2,3,4,5,6,7,8,9,10,11,12,13,14], how to generate an array R = [[1,2,3,4], [2,3,4,5], [3,4,5,6], ..., [11,12,13,14]]? (★★★)"
   ]
  },
  {
   "cell_type": "code",
   "execution_count": 216,
   "id": "f3e7878b",
   "metadata": {},
   "outputs": [
    {
     "data": {
      "text/plain": "array([[0, 1, 2, 3],\n       [1, 2, 3, 4],\n       [2, 3, 4, 5],\n       [3, 4, 5, 6],\n       [4, 5, 6, 7]])"
     },
     "execution_count": 216,
     "metadata": {},
     "output_type": "execute_result"
    }
   ],
   "source": [
    "z = np.arange(8)\n",
    "window_size = 4\n",
    "k = np.lib.stride_tricks.as_strided(z, (len(z)-window_size+1, window_size), (8, 8))\n",
    "\n",
    "k"
   ]
  },
  {
   "cell_type": "code",
   "execution_count": null,
   "id": "3dfa5d33",
   "metadata": {},
   "outputs": [],
   "source": [
    "mat = t.arange(8)\n",
    "t.as_strided(mat, size=(6, 3), stride=(1, 1))"
   ]
  },
  {
   "cell_type": "markdown",
   "id": "fae786f5",
   "metadata": {},
   "source": [
    "#### 82. Compute a matrix rank (★★★)"
   ]
  },
  {
   "cell_type": "code",
   "execution_count": 247,
   "id": "64b9615b",
   "metadata": {},
   "outputs": [
    {
     "data": {
      "text/plain": "3"
     },
     "execution_count": 247,
     "metadata": {},
     "output_type": "execute_result"
    }
   ],
   "source": [
    "# Last row is 2xfirst + snd\n",
    "A = np.array([[1, 2, 3], [9, 1, 2], [13, 5, 8]])\n",
    "\n",
    "# One dedicated function:\n",
    "# np.linalg.matrix_rank(A)\n",
    "\n",
    "# Using SVD:\n",
    "_, singular_values, _ = np.linalg.svd(A)\n",
    "\n",
    "np.logical_not(np.isclose(singular_values, 0)).astype(np.int).sum()"
   ]
  },
  {
   "cell_type": "markdown",
   "id": "c85aa0b9",
   "metadata": {},
   "source": [
    "#### 83. How to find the most frequent value in an array?"
   ]
  },
  {
   "cell_type": "code",
   "execution_count": null,
   "id": "056be85b",
   "metadata": {},
   "outputs": [],
   "source": [
    "a = np.array([1, 1, 3, 3, 3, 2, 2, 2, 9, 3])\n",
    "\n",
    "np.argmax(np.bincount(a))"
   ]
  },
  {
   "cell_type": "markdown",
   "id": "0ff2344d",
   "metadata": {},
   "source": [
    "#### 84. Extract all the contiguous 3x3 blocks from a random 10x10 matrix (★★★)"
   ]
  },
  {
   "cell_type": "code",
   "execution_count": 253,
   "id": "d58b1318",
   "metadata": {},
   "outputs": [
    {
     "data": {
      "text/plain": "array([[0.11311578, 0.80025717, 0.84082329, 0.74620591, 0.05320241],\n       [0.23136558, 0.91384516, 0.74247561, 0.72712306, 0.64853213],\n       [0.46392192, 0.54402524, 0.58184958, 0.00739306, 0.52946765],\n       [0.73827814, 0.3930424 , 0.34286046, 0.73941078, 0.96116519],\n       [0.03808524, 0.60145249, 0.81150227, 0.56238468, 0.29007575]])"
     },
     "execution_count": 253,
     "metadata": {},
     "output_type": "execute_result"
    }
   ],
   "source": [
    "R = np.random.rand(5, 5)\n",
    "\n",
    "R"
   ]
  },
  {
   "cell_type": "code",
   "execution_count": 277,
   "outputs": [],
   "source": [
    "window_size = 3\n",
    "new_shape = R.shape[0]-window_size+1\n",
    "res = np.lib.stride_tricks.as_strided(R,\n",
    "                                (new_shape, new_shape, window_size,window_size),\n",
    "                                (R.strides[0],R.strides[1],R.strides[0], R.strides[1]))"
   ],
   "metadata": {
    "collapsed": false,
    "pycharm": {
     "name": "#%%\n"
    }
   }
  },
  {
   "cell_type": "code",
   "execution_count": 281,
   "outputs": [
    {
     "data": {
      "text/plain": "array([[[0.23136558, 0.91384516, 0.74247561],\n        [0.46392192, 0.54402524, 0.58184958],\n        [0.73827814, 0.3930424 , 0.34286046]],\n\n       [[0.91384516, 0.74247561, 0.72712306],\n        [0.54402524, 0.58184958, 0.00739306],\n        [0.3930424 , 0.34286046, 0.73941078]],\n\n       [[0.74247561, 0.72712306, 0.64853213],\n        [0.58184958, 0.00739306, 0.52946765],\n        [0.34286046, 0.73941078, 0.96116519]]])"
     },
     "execution_count": 281,
     "metadata": {},
     "output_type": "execute_result"
    }
   ],
   "source": [
    "res[1]"
   ],
   "metadata": {
    "collapsed": false,
    "pycharm": {
     "name": "#%%\n"
    }
   }
  },
  {
   "cell_type": "code",
   "execution_count": 276,
   "outputs": [
    {
     "name": "stdout",
     "output_type": "stream",
     "text": [
      "# Author: Chris Barker\n",
      "\n",
      "Z = np.random.randint(0,5,(10,10))\n",
      "n = 3\n",
      "i = 1 + (Z.shape[0]-3)\n",
      "j = 1 + (Z.shape[1]-3)\n",
      "C = stride_tricks.as_strided(Z, shape=(i, j, n, n), strides=Z.strides + Z.strides)\n",
      "print(C)\n",
      "\n",
      "# Author: Jeff Luo (@Jeff1999)\n",
      "\n",
      "Z = np.random.randint(0,5,(10,10))\n",
      "print(sliding_window_view(Z, window_shape=(3, 3)))\n"
     ]
    }
   ],
   "source": [
    "answer(84)"
   ],
   "metadata": {
    "collapsed": false,
    "pycharm": {
     "name": "#%%\n"
    }
   }
  },
  {
   "cell_type": "markdown",
   "id": "1a18b263",
   "metadata": {},
   "source": [
    "#### 85. Create a 2D array subclass such that Z[i,j] == Z[j,i] (★★★)"
   ]
  },
  {
   "cell_type": "code",
   "execution_count": 286,
   "id": "87f17adc",
   "metadata": {},
   "outputs": [],
   "source": [
    "# What do you initialise a symmetric array with?\n",
    "# Either the elements above or below the diagonal;\n",
    "# the rest are inferred. How to do this in a neat way?\n",
    "\n",
    "class SymmetricArray(np.ndarray):\n",
    "    def __setitem__(self, key, value):\n",
    "        i, j = key\n",
    "        super(SymmetricArray, self).__setitem__((i, j), value)\n",
    "        super(SymmetricArray, self).__setitem__((j, i), value)\n",
    "\n",
    "# Why would this assumption be correct?\n",
    "# This just sets S[i, j] = S[j, i] = A[i, j] + A[j, i].\n",
    "def symmetric(A):\n",
    "    return np.asarray(A + A.T - np.diag(A.diagonal())).view(SymmetricArray)"
   ]
  },
  {
   "cell_type": "code",
   "execution_count": 288,
   "outputs": [
    {
     "data": {
      "text/plain": "(SymmetricArray([[ 2,  6,  4,  9,  9],\n                 [ 6,  6, 12, 14, 12],\n                 [ 4, 12,  7,  1, 10],\n                 [ 9, 14,  1,  3, 13],\n                 [ 9, 12, 10, 13,  9]]),\n array([[2, 1, 4, 7, 8],\n        [5, 6, 7, 6, 7],\n        [0, 5, 7, 1, 6],\n        [2, 8, 0, 3, 8],\n        [1, 5, 4, 5, 9]]))"
     },
     "execution_count": 288,
     "metadata": {},
     "output_type": "execute_result"
    }
   ],
   "source": [
    "A = np.random.randint(0, 10, (5, 5))\n",
    "S = symmetric(A)\n",
    "S, A"
   ],
   "metadata": {
    "collapsed": false,
    "pycharm": {
     "name": "#%%\n"
    }
   }
  },
  {
   "cell_type": "markdown",
   "id": "f85f2cad",
   "metadata": {},
   "source": [
    "#### 86. Consider a set of p matrices wich shape (n,n) and a set of p vectors with shape (n,1). How to compute the sum of of the p matrix products at once? (result has shape (n,1)) (★★★)"
   ]
  },
  {
   "cell_type": "code",
   "execution_count": 289,
   "id": "8d230557",
   "metadata": {},
   "outputs": [],
   "source": [
    "p = 10\n",
    "n = 5\n",
    "matrices = np.random.randint(0, 10, (p, n, n))\n",
    "vectors = np.random.randint(0, 10, (p, n, 1))"
   ]
  },
  {
   "cell_type": "code",
   "execution_count": 293,
   "outputs": [
    {
     "data": {
      "text/plain": "array([[1150],\n       [1083],\n       [1013],\n       [ 979],\n       [1283]])"
     },
     "execution_count": 293,
     "metadata": {},
     "output_type": "execute_result"
    }
   ],
   "source": [
    "(matrices@vectors).sum(axis=0)"
   ],
   "metadata": {
    "collapsed": false,
    "pycharm": {
     "name": "#%%\n"
    }
   }
  },
  {
   "cell_type": "code",
   "execution_count": 303,
   "outputs": [
    {
     "data": {
      "text/plain": "array([[1150],\n       [1083],\n       [1013],\n       [ 979],\n       [1283]])"
     },
     "execution_count": 303,
     "metadata": {},
     "output_type": "execute_result"
    }
   ],
   "source": [
    "np.einsum(\"pij,pjk->ik\", matrices, vectors)"
   ],
   "metadata": {
    "collapsed": false,
    "pycharm": {
     "name": "#%%\n"
    }
   }
  },
  {
   "cell_type": "code",
   "execution_count": 307,
   "outputs": [
    {
     "data": {
      "text/plain": "array([[1150],\n       [1083],\n       [1013],\n       [ 979],\n       [1283]])"
     },
     "execution_count": 307,
     "metadata": {},
     "output_type": "execute_result"
    }
   ],
   "source": [
    "np.tensordot(matrices, vectors, axes=([0, 2], [0, 1]))"
   ],
   "metadata": {
    "collapsed": false,
    "pycharm": {
     "name": "#%%\n"
    }
   }
  },
  {
   "cell_type": "markdown",
   "id": "5afb72c8",
   "metadata": {},
   "source": [
    "#### 87. Consider a 16x16 array, how to get the block-sum (block size is 4x4)? (★★★)"
   ]
  },
  {
   "cell_type": "code",
   "execution_count": 354,
   "id": "e86f47a9",
   "metadata": {},
   "outputs": [],
   "source": [
    "A = np.random.randint(0, 10, (4, 4))\n",
    "k = 2"
   ]
  },
  {
   "cell_type": "code",
   "execution_count": 355,
   "outputs": [
    {
     "data": {
      "text/plain": "array([[7, 9, 0, 2],\n       [3, 8, 5, 0],\n       [5, 2, 3, 8],\n       [0, 7, 2, 9]])"
     },
     "execution_count": 355,
     "metadata": {},
     "output_type": "execute_result"
    }
   ],
   "source": [
    "A"
   ],
   "metadata": {
    "collapsed": false,
    "pycharm": {
     "name": "#%%\n"
    }
   }
  },
  {
   "cell_type": "code",
   "execution_count": 356,
   "outputs": [
    {
     "name": "stdout",
     "output_type": "stream",
     "text": [
      "(32, 8)\n"
     ]
    }
   ],
   "source": [
    "print(A.strides)\n",
    "res = np.lib.stride_tricks.as_strided(A, (4, 4, 2, 2), (32, 16, 32, 8))"
   ],
   "metadata": {
    "collapsed": false,
    "pycharm": {
     "name": "#%%\n"
    }
   }
  },
  {
   "cell_type": "code",
   "execution_count": 359,
   "outputs": [],
   "source": [
    "blocks = res[::k, ::k, ...].sum(axis=(-2, -1))"
   ],
   "metadata": {
    "collapsed": false,
    "pycharm": {
     "name": "#%%\n"
    }
   }
  },
  {
   "cell_type": "markdown",
   "id": "6094d37c",
   "metadata": {},
   "source": [
    "#### 88. How to implement the Game of Life using numpy arrays? (★★★)"
   ]
  },
  {
   "cell_type": "markdown",
   "id": "a173cf96",
   "metadata": {},
   "source": [
    "#### 89. How to get the n largest values of an array (★★★)"
   ]
  },
  {
   "cell_type": "code",
   "execution_count": null,
   "id": "a2dd6038",
   "metadata": {},
   "outputs": [],
   "source": [
    "np.info(np.argpartition)"
   ]
  },
  {
   "cell_type": "markdown",
   "id": "15db2d01",
   "metadata": {},
   "source": [
    "#### 90. Given an arbitrary number of vectors, build the cartesian product (every combinations of every item) (★★★)"
   ]
  },
  {
   "cell_type": "code",
   "execution_count": 361,
   "id": "a9a4633d",
   "metadata": {},
   "outputs": [],
   "source": [
    "p, m = 5, 10\n",
    "a = np.random.randint(0, 10, (p, m))"
   ]
  },
  {
   "cell_type": "code",
   "execution_count": null,
   "outputs": [],
   "source": [
    "# How would this work? Every item in the first vector with every other item in all the other vectors?"
   ],
   "metadata": {
    "collapsed": false,
    "pycharm": {
     "name": "#%%\n"
    }
   }
  },
  {
   "cell_type": "markdown",
   "id": "5d94d1ef",
   "metadata": {},
   "source": [
    "#### 91. How to create a record array from a regular array? (★★★)"
   ]
  },
  {
   "cell_type": "code",
   "execution_count": null,
   "id": "b1dae380",
   "metadata": {},
   "outputs": [],
   "source": []
  },
  {
   "cell_type": "markdown",
   "id": "114ccc36",
   "metadata": {},
   "source": [
    "#### 92. Consider a large vector Z, compute Z to the power of 3 using 3 different methods (★★★)"
   ]
  },
  {
   "cell_type": "code",
   "execution_count": 375,
   "id": "877c65d6",
   "metadata": {},
   "outputs": [
    {
     "data": {
      "text/plain": "(array([ 1,  8, 27, 64]), array([ 1,  8, 27, 64]), array([ 1,  8, 27, 64]))"
     },
     "execution_count": 375,
     "metadata": {},
     "output_type": "execute_result"
    }
   ],
   "source": [
    "Z = np.array([1, 2, 3, 4])\n",
    "np.power(Z, 3), Z*Z*Z, np.einsum(\"i,i->i\", np.einsum(\"i,i->i\", Z, Z), Z)"
   ]
  },
  {
   "cell_type": "markdown",
   "id": "d614fee4",
   "metadata": {},
   "source": [
    "#### 93. Consider two arrays A and B of shape (8,3) and (2,2). How to find rows of A that contain elements of each row of B regardless of the order of the elements in B? (★★★)"
   ]
  },
  {
   "cell_type": "markdown",
   "id": "b0eedca6",
   "metadata": {},
   "source": [
    "#### 94. Considering a 10x3 matrix, extract rows with unequal values (e.g. [2,2,3]) (★★★)"
   ]
  },
  {
   "cell_type": "markdown",
   "id": "a65ec1cf",
   "metadata": {},
   "source": [
    "#### 95. Convert a vector of ints into a matrix binary representation (★★★)"
   ]
  },
  {
   "cell_type": "markdown",
   "id": "75b9397f",
   "metadata": {},
   "source": [
    "#### 96. Given a two dimensional array, how to extract unique rows? (★★★)"
   ]
  },
  {
   "cell_type": "markdown",
   "id": "82aaf21b",
   "metadata": {},
   "source": [
    "#### 97. Considering 2 vectors A & B, write the einsum equivalent of inner, outer, sum, and mul function (★★★)"
   ]
  },
  {
   "cell_type": "code",
   "execution_count": null,
   "id": "cedcefd9",
   "metadata": {},
   "outputs": [],
   "source": [
    "a = np.array([1, 2, 3, 4, 5])\n",
    "b = np.array([1, 7, 2, 3, 8])\n",
    "\n",
    "print(f\"{np.inner(a, b)=}\")\n",
    "print(f\"{np.einsum('i, i->', a, b)=}\")\n",
    "print(f\"{np.outer(a, b)=}\")\n",
    "print(f\"{np.einsum('i, j->ij', a, b)=}\")\n",
    "print(f\"{(a+b)=}\")\n",
    "print(f\"{np.einsum('i', a, b)=}\")\n",
    "print(f\"{(np.multiply(a, b))=}\")\n",
    "print(f\"{np.einsum('i,i->i', a, b)=}\")"
   ]
  },
  {
   "cell_type": "code",
   "execution_count": null,
   "outputs": [],
   "source": [
    "answer(97)"
   ],
   "metadata": {
    "collapsed": false,
    "pycharm": {
     "name": "#%%\n"
    }
   }
  },
  {
   "cell_type": "markdown",
   "id": "7741e17f",
   "metadata": {},
   "source": [
    "#### 98. Considering a path described by two vectors (X,Y), how to sample it using equidistant samples (★★★)?"
   ]
  },
  {
   "cell_type": "code",
   "execution_count": null,
   "id": "0b2432fe",
   "metadata": {},
   "outputs": [],
   "source": []
  },
  {
   "cell_type": "markdown",
   "id": "340d6f36",
   "metadata": {},
   "source": [
    "#### 99. Given an integer n and a 2D array X, select from X the rows which can be interpreted as draws from a multinomial distribution with n degrees, i.e., the rows which only contain integers and which sum to n. (★★★)"
   ]
  },
  {
   "cell_type": "code",
   "execution_count": null,
   "id": "a75323ae",
   "metadata": {},
   "outputs": [],
   "source": [
    "a = np.array([[1, 5, 6], [3, 1, 2], [4, 7, 1], [6,6,0], [5.5, 5.5, 1]])\n",
    "n = 12\n",
    "# Only contain integers.\n",
    "\n",
    "# Sum to n.\n",
    "criterion = (a.sum(axis=1, keepdims=True) == n) & (np.all(a.astype(int) == a, axis=1)).reshape(-1, 1)\n",
    "\n",
    "res = a[criterion.reshape(a.shape[0])]\n",
    "\n",
    "print(res)"
   ]
  },
  {
   "cell_type": "code",
   "execution_count": null,
   "outputs": [],
   "source": [
    "answer(99)"
   ],
   "metadata": {
    "collapsed": false,
    "pycharm": {
     "name": "#%%\n"
    }
   }
  },
  {
   "cell_type": "code",
   "execution_count": null,
   "outputs": [],
   "source": [
    "m = np.logical_and.reduce(np.mod(a, 1) == 0, axis=-1)\n",
    "m"
   ],
   "metadata": {
    "collapsed": false,
    "pycharm": {
     "name": "#%%\n"
    }
   }
  },
  {
   "cell_type": "markdown",
   "id": "19721849",
   "metadata": {
    "pycharm": {
     "name": "#%% md\n"
    }
   },
   "source": [
    "#### 100. Compute bootstrapped 95% confidence intervals for the mean of a 1D array X (i.e., resample the elements of an array with replacement N times, compute the mean of each sample, and then compute percentiles over the means). (★★★)"
   ]
  }
 ],
 "metadata": {
  "kernelspec": {
   "display_name": "Python 3.8.3 ('base')",
   "language": "python",
   "name": "python3"
  },
  "language_info": {
   "codemirror_mode": {
    "name": "ipython",
    "version": 3
   },
   "file_extension": ".py",
   "mimetype": "text/x-python",
   "name": "python",
   "nbconvert_exporter": "python",
   "pygments_lexer": "ipython3",
   "version": "3.8.3"
  },
  "vscode": {
   "interpreter": {
    "hash": "5ff7858d77c2d868abed743bbf7fc524584f35d65e2431f5cc896250b43ff6b4"
   }
  }
 },
 "nbformat": 4,
 "nbformat_minor": 5
}